{
 "cells": [
  {
   "cell_type": "markdown",
   "metadata": {},
   "source": [
    "# Credit Card Fraud Detection::"
   ]
  },
  {
   "cell_type": "markdown",
   "metadata": {},
   "source": [
    "Download dataset from this link:\n",
    "\n",
    "https://www.kaggle.com/mlg-ulb/creditcardfraud"
   ]
  },
  {
   "cell_type": "markdown",
   "metadata": {},
   "source": [
    "# Description about dataset::"
   ]
  },
  {
   "cell_type": "markdown",
   "metadata": {},
   "source": [
    "The datasets contains transactions made by credit cards in September 2013 by european cardholders.\n",
    "This dataset presents transactions that occurred in two days, where we have 492 frauds out of 284,807 transactions. The dataset is highly unbalanced, the positive class (frauds) account for 0.172% of all transactions.\n",
    "\n",
    "It contains only numerical input variables which are the result of a PCA transformation. Unfortunately, due to confidentiality issues, we cannot provide the original features and more background information about the data. Features V1, V2, … V28 are the principal components obtained with PCA, the only features which have not been transformed with PCA are 'Time' and 'Amount'. Feature 'Time' contains the seconds elapsed between each transaction and the first transaction in the dataset. The feature 'Amount' is the transaction Amount, this feature can be used for example-dependant cost-senstive learning. \n",
    "\n",
    "\n",
    "### Feature 'Class' is the response variable and it takes value 1 in case of fraud and 0 otherwise."
   ]
  },
  {
   "cell_type": "markdown",
   "metadata": {},
   "source": [
    "# WORKFLOW :"
   ]
  },
  {
   "cell_type": "markdown",
   "metadata": {},
   "source": [
    "1.Load Data\n",
    "\n",
    "2.Check Missing Values ( If Exist ; Fill each record with mean of its feature )\n",
    "\n",
    "3.Standardized the Input Variables. \n",
    "\n",
    "4.Split into 50% Training(Samples,Labels) , 30% Test(Samples,Labels) and 20% Validation Data(Samples,Labels).\n",
    "\n",
    "5.Model : input Layer (No. of features ), 3 hidden layers including 10,8,6 unit & Output Layer with activation function relu/tanh (check by experiment).\n",
    "\n",
    "6.Compilation Step (Note : Its a Binary problem , select loss , metrics according to it)\n",
    "\n",
    "7.Train the Model with Epochs (100).\n",
    "\n",
    "8.If the model gets overfit tune your model by changing the units , No. of layers , epochs , add dropout layer or add Regularizer according to the need .\n",
    "\n",
    "9.Prediction should be > 92%\n",
    "10.Evaluation Step\n",
    "11Prediction\n"
   ]
  },
  {
   "cell_type": "markdown",
   "metadata": {},
   "source": [
    "# Task::"
   ]
  },
  {
   "cell_type": "markdown",
   "metadata": {},
   "source": [
    "## Identify fraudulent credit card transactions."
   ]
  },
  {
   "cell_type": "code",
   "execution_count": 1,
   "metadata": {},
   "outputs": [],
   "source": [
    "import numpy as np\n",
    "import pandas as pd\n",
    "from tensorflow.keras import models, layers"
   ]
  },
  {
   "cell_type": "code",
   "execution_count": 2,
   "metadata": {},
   "outputs": [],
   "source": [
    "dataset = pd.read_csv(\"creditcard.csv\")"
   ]
  },
  {
   "cell_type": "code",
   "execution_count": 3,
   "metadata": {},
   "outputs": [
    {
     "output_type": "execute_result",
     "data": {
      "text/plain": [
       "   Time        V1        V2        V3        V4        V5        V6        V7  \\\n",
       "0   0.0 -1.359807 -0.072781  2.536347  1.378155 -0.338321  0.462388  0.239599   \n",
       "1   0.0  1.191857  0.266151  0.166480  0.448154  0.060018 -0.082361 -0.078803   \n",
       "2   1.0 -1.358354 -1.340163  1.773209  0.379780 -0.503198  1.800499  0.791461   \n",
       "3   1.0 -0.966272 -0.185226  1.792993 -0.863291 -0.010309  1.247203  0.237609   \n",
       "4   2.0 -1.158233  0.877737  1.548718  0.403034 -0.407193  0.095921  0.592941   \n",
       "\n",
       "         V8        V9  ...       V21       V22       V23       V24       V25  \\\n",
       "0  0.098698  0.363787  ... -0.018307  0.277838 -0.110474  0.066928  0.128539   \n",
       "1  0.085102 -0.255425  ... -0.225775 -0.638672  0.101288 -0.339846  0.167170   \n",
       "2  0.247676 -1.514654  ...  0.247998  0.771679  0.909412 -0.689281 -0.327642   \n",
       "3  0.377436 -1.387024  ... -0.108300  0.005274 -0.190321 -1.175575  0.647376   \n",
       "4 -0.270533  0.817739  ... -0.009431  0.798278 -0.137458  0.141267 -0.206010   \n",
       "\n",
       "        V26       V27       V28  Amount  Class  \n",
       "0 -0.189115  0.133558 -0.021053  149.62      0  \n",
       "1  0.125895 -0.008983  0.014724    2.69      0  \n",
       "2 -0.139097 -0.055353 -0.059752  378.66      0  \n",
       "3 -0.221929  0.062723  0.061458  123.50      0  \n",
       "4  0.502292  0.219422  0.215153   69.99      0  \n",
       "\n",
       "[5 rows x 31 columns]"
      ],
      "text/html": "<div>\n<style scoped>\n    .dataframe tbody tr th:only-of-type {\n        vertical-align: middle;\n    }\n\n    .dataframe tbody tr th {\n        vertical-align: top;\n    }\n\n    .dataframe thead th {\n        text-align: right;\n    }\n</style>\n<table border=\"1\" class=\"dataframe\">\n  <thead>\n    <tr style=\"text-align: right;\">\n      <th></th>\n      <th>Time</th>\n      <th>V1</th>\n      <th>V2</th>\n      <th>V3</th>\n      <th>V4</th>\n      <th>V5</th>\n      <th>V6</th>\n      <th>V7</th>\n      <th>V8</th>\n      <th>V9</th>\n      <th>...</th>\n      <th>V21</th>\n      <th>V22</th>\n      <th>V23</th>\n      <th>V24</th>\n      <th>V25</th>\n      <th>V26</th>\n      <th>V27</th>\n      <th>V28</th>\n      <th>Amount</th>\n      <th>Class</th>\n    </tr>\n  </thead>\n  <tbody>\n    <tr>\n      <th>0</th>\n      <td>0.0</td>\n      <td>-1.359807</td>\n      <td>-0.072781</td>\n      <td>2.536347</td>\n      <td>1.378155</td>\n      <td>-0.338321</td>\n      <td>0.462388</td>\n      <td>0.239599</td>\n      <td>0.098698</td>\n      <td>0.363787</td>\n      <td>...</td>\n      <td>-0.018307</td>\n      <td>0.277838</td>\n      <td>-0.110474</td>\n      <td>0.066928</td>\n      <td>0.128539</td>\n      <td>-0.189115</td>\n      <td>0.133558</td>\n      <td>-0.021053</td>\n      <td>149.62</td>\n      <td>0</td>\n    </tr>\n    <tr>\n      <th>1</th>\n      <td>0.0</td>\n      <td>1.191857</td>\n      <td>0.266151</td>\n      <td>0.166480</td>\n      <td>0.448154</td>\n      <td>0.060018</td>\n      <td>-0.082361</td>\n      <td>-0.078803</td>\n      <td>0.085102</td>\n      <td>-0.255425</td>\n      <td>...</td>\n      <td>-0.225775</td>\n      <td>-0.638672</td>\n      <td>0.101288</td>\n      <td>-0.339846</td>\n      <td>0.167170</td>\n      <td>0.125895</td>\n      <td>-0.008983</td>\n      <td>0.014724</td>\n      <td>2.69</td>\n      <td>0</td>\n    </tr>\n    <tr>\n      <th>2</th>\n      <td>1.0</td>\n      <td>-1.358354</td>\n      <td>-1.340163</td>\n      <td>1.773209</td>\n      <td>0.379780</td>\n      <td>-0.503198</td>\n      <td>1.800499</td>\n      <td>0.791461</td>\n      <td>0.247676</td>\n      <td>-1.514654</td>\n      <td>...</td>\n      <td>0.247998</td>\n      <td>0.771679</td>\n      <td>0.909412</td>\n      <td>-0.689281</td>\n      <td>-0.327642</td>\n      <td>-0.139097</td>\n      <td>-0.055353</td>\n      <td>-0.059752</td>\n      <td>378.66</td>\n      <td>0</td>\n    </tr>\n    <tr>\n      <th>3</th>\n      <td>1.0</td>\n      <td>-0.966272</td>\n      <td>-0.185226</td>\n      <td>1.792993</td>\n      <td>-0.863291</td>\n      <td>-0.010309</td>\n      <td>1.247203</td>\n      <td>0.237609</td>\n      <td>0.377436</td>\n      <td>-1.387024</td>\n      <td>...</td>\n      <td>-0.108300</td>\n      <td>0.005274</td>\n      <td>-0.190321</td>\n      <td>-1.175575</td>\n      <td>0.647376</td>\n      <td>-0.221929</td>\n      <td>0.062723</td>\n      <td>0.061458</td>\n      <td>123.50</td>\n      <td>0</td>\n    </tr>\n    <tr>\n      <th>4</th>\n      <td>2.0</td>\n      <td>-1.158233</td>\n      <td>0.877737</td>\n      <td>1.548718</td>\n      <td>0.403034</td>\n      <td>-0.407193</td>\n      <td>0.095921</td>\n      <td>0.592941</td>\n      <td>-0.270533</td>\n      <td>0.817739</td>\n      <td>...</td>\n      <td>-0.009431</td>\n      <td>0.798278</td>\n      <td>-0.137458</td>\n      <td>0.141267</td>\n      <td>-0.206010</td>\n      <td>0.502292</td>\n      <td>0.219422</td>\n      <td>0.215153</td>\n      <td>69.99</td>\n      <td>0</td>\n    </tr>\n  </tbody>\n</table>\n<p>5 rows × 31 columns</p>\n</div>"
     },
     "metadata": {},
     "execution_count": 3
    }
   ],
   "source": [
    "dataset.head()"
   ]
  },
  {
   "cell_type": "code",
   "execution_count": 4,
   "metadata": {},
   "outputs": [
    {
     "output_type": "execute_result",
     "data": {
      "text/plain": [
       "Time      0\n",
       "V1        0\n",
       "V2        0\n",
       "V3        0\n",
       "V4        0\n",
       "V5        0\n",
       "V6        0\n",
       "V7        0\n",
       "V8        0\n",
       "V9        0\n",
       "V10       0\n",
       "V11       0\n",
       "V12       0\n",
       "V13       0\n",
       "V14       0\n",
       "V15       0\n",
       "V16       0\n",
       "V17       0\n",
       "V18       0\n",
       "V19       0\n",
       "V20       0\n",
       "V21       0\n",
       "V22       0\n",
       "V23       0\n",
       "V24       0\n",
       "V25       0\n",
       "V26       0\n",
       "V27       0\n",
       "V28       0\n",
       "Amount    0\n",
       "Class     0\n",
       "dtype: int64"
      ]
     },
     "metadata": {},
     "execution_count": 4
    }
   ],
   "source": [
    "dataset.isna().sum()"
   ]
  },
  {
   "cell_type": "code",
   "execution_count": 5,
   "metadata": {},
   "outputs": [],
   "source": [
    "train_size = int(dataset.shape[0] * 0.5)\n",
    "test_size = int((dataset.shape[0] * 0.3) + train_size)"
   ]
  },
  {
   "cell_type": "code",
   "execution_count": 6,
   "metadata": {},
   "outputs": [],
   "source": [
    "y = dataset[\"Class\"]\n",
    "x = dataset.drop(\"Class\", axis=1)"
   ]
  },
  {
   "cell_type": "code",
   "execution_count": 7,
   "metadata": {},
   "outputs": [],
   "source": [
    "x_train, x_test, x_validate = x[:train_size], x[train_size:test_size], x[test_size:]\n",
    "y_train, y_test, y_validate = y[:train_size], y[train_size:test_size], y[test_size:]"
   ]
  },
  {
   "cell_type": "code",
   "execution_count": 8,
   "metadata": {},
   "outputs": [],
   "source": [
    "mean = x_train.mean()\n",
    "x_train -= mean\n",
    "std  = x_train.std()\n",
    "x_train /= std"
   ]
  },
  {
   "cell_type": "code",
   "execution_count": 9,
   "metadata": {},
   "outputs": [],
   "source": [
    "x_test -= mean\n",
    "x_test /= std\n",
    "x_validate -= mean\n",
    "x_validate /= std"
   ]
  },
  {
   "cell_type": "code",
   "execution_count": 10,
   "metadata": {},
   "outputs": [],
   "source": [
    "def build_model():\n",
    "    model = models.Sequential()\n",
    "    model.add(layers.Dense(30, input_shape=(30,), activation=\"relu\"))\n",
    "    model.add(layers.Dense(10, activation=\"relu\"))\n",
    "    model.add(layers.Dense(8, activation=\"relu\"))\n",
    "    model.add(layers.Dense(3, activation=\"relu\"))\n",
    "    model.add(layers.Dense(1, activation=\"sigmoid\"))\n",
    "    model.compile(metrics=[\"accuracy\"], loss='binary_crossentropy', optimizer=\"rmsprop\")\n",
    "    \n",
    "    return model"
   ]
  },
  {
   "cell_type": "code",
   "execution_count": 11,
   "metadata": {},
   "outputs": [
    {
     "output_type": "stream",
     "name": "stdout",
     "text": [
      "Model: \"sequential\"\n_________________________________________________________________\nLayer (type)                 Output Shape              Param #   \n=================================================================\ndense (Dense)                (None, 30)                930       \n_________________________________________________________________\ndense_1 (Dense)              (None, 10)                310       \n_________________________________________________________________\ndense_2 (Dense)              (None, 8)                 88        \n_________________________________________________________________\ndense_3 (Dense)              (None, 3)                 27        \n_________________________________________________________________\ndense_4 (Dense)              (None, 1)                 4         \n=================================================================\nTotal params: 1,359\nTrainable params: 1,359\nNon-trainable params: 0\n_________________________________________________________________\n"
     ]
    }
   ],
   "source": [
    "model = build_model()\n",
    "model.summary()"
   ]
  },
  {
   "cell_type": "code",
   "execution_count": 12,
   "metadata": {},
   "outputs": [
    {
     "output_type": "stream",
     "name": "stdout",
     "text": [
      "Epoch 1/100\n",
      "2226/2226 [==============================] - 17s 7ms/step - loss: 0.0629 - accuracy: 0.9982 - val_loss: 0.0059 - val_accuracy: 0.9994\n",
      "Epoch 2/100\n",
      "2226/2226 [==============================] - 8s 4ms/step - loss: 0.0049 - accuracy: 0.9992 - val_loss: 0.0077 - val_accuracy: 0.9994\n",
      "Epoch 3/100\n",
      "2226/2226 [==============================] - 8s 4ms/step - loss: 0.0046 - accuracy: 0.9993 - val_loss: 0.0047 - val_accuracy: 0.9995\n",
      "Epoch 4/100\n",
      "2226/2226 [==============================] - 11s 5ms/step - loss: 0.0041 - accuracy: 0.9993 - val_loss: 0.0061 - val_accuracy: 0.9995\n",
      "Epoch 5/100\n",
      "2226/2226 [==============================] - 6s 3ms/step - loss: 0.0046 - accuracy: 0.9993 - val_loss: 0.0065 - val_accuracy: 0.9995\n",
      "Epoch 6/100\n",
      "2226/2226 [==============================] - 6s 3ms/step - loss: 0.0039 - accuracy: 0.9993 - val_loss: 0.0054 - val_accuracy: 0.9996\n",
      "Epoch 7/100\n",
      "2226/2226 [==============================] - 6s 3ms/step - loss: 0.0041 - accuracy: 0.9993 - val_loss: 0.0051 - val_accuracy: 0.9995\n",
      "Epoch 8/100\n",
      "2226/2226 [==============================] - 7s 3ms/step - loss: 0.0041 - accuracy: 0.9993 - val_loss: 0.0056 - val_accuracy: 0.9995\n",
      "Epoch 9/100\n",
      "2226/2226 [==============================] - 6s 3ms/step - loss: 0.0039 - accuracy: 0.9993 - val_loss: 0.0038 - val_accuracy: 0.9996\n",
      "Epoch 10/100\n",
      "2226/2226 [==============================] - 6s 3ms/step - loss: 0.0040 - accuracy: 0.9993 - val_loss: 0.0040 - val_accuracy: 0.9996\n",
      "Epoch 11/100\n",
      "2226/2226 [==============================] - 7s 3ms/step - loss: 0.0035 - accuracy: 0.9994 - val_loss: 0.0039 - val_accuracy: 0.9995\n",
      "Epoch 12/100\n",
      "2226/2226 [==============================] - 6s 3ms/step - loss: 0.0038 - accuracy: 0.9993 - val_loss: 0.0032 - val_accuracy: 0.9996\n",
      "Epoch 13/100\n",
      "2226/2226 [==============================] - 7s 3ms/step - loss: 0.0035 - accuracy: 0.9994 - val_loss: 0.0032 - val_accuracy: 0.9995\n",
      "Epoch 14/100\n",
      "2226/2226 [==============================] - 7s 3ms/step - loss: 0.0031 - accuracy: 0.9994 - val_loss: 0.0040 - val_accuracy: 0.9996\n",
      "Epoch 15/100\n",
      "2226/2226 [==============================] - 6s 3ms/step - loss: 0.0041 - accuracy: 0.9993 - val_loss: 0.0048 - val_accuracy: 0.9995\n",
      "Epoch 16/100\n",
      "2226/2226 [==============================] - 6s 3ms/step - loss: 0.0036 - accuracy: 0.9994 - val_loss: 0.0048 - val_accuracy: 0.9995\n",
      "Epoch 17/100\n",
      "2226/2226 [==============================] - 6s 3ms/step - loss: 0.0037 - accuracy: 0.9994 - val_loss: 0.0042 - val_accuracy: 0.9994\n",
      "Epoch 18/100\n",
      "2226/2226 [==============================] - 6s 3ms/step - loss: 0.0040 - accuracy: 0.9993 - val_loss: 0.0055 - val_accuracy: 0.9994\n",
      "Epoch 19/100\n",
      "2226/2226 [==============================] - 7s 3ms/step - loss: 0.0040 - accuracy: 0.9993 - val_loss: 0.0053 - val_accuracy: 0.9994\n",
      "Epoch 20/100\n",
      "2226/2226 [==============================] - 7s 3ms/step - loss: 0.0039 - accuracy: 0.9994 - val_loss: 0.0046 - val_accuracy: 0.9994\n",
      "Epoch 21/100\n",
      "2226/2226 [==============================] - 7s 3ms/step - loss: 0.0039 - accuracy: 0.9995 - val_loss: 0.0098 - val_accuracy: 0.9993\n",
      "Epoch 22/100\n",
      "2226/2226 [==============================] - 6s 3ms/step - loss: 0.0035 - accuracy: 0.9995 - val_loss: 0.0061 - val_accuracy: 0.9994\n",
      "Epoch 23/100\n",
      "2226/2226 [==============================] - 6s 3ms/step - loss: 0.0048 - accuracy: 0.9994 - val_loss: 0.0059 - val_accuracy: 0.9992\n",
      "Epoch 24/100\n",
      "2226/2226 [==============================] - 6s 3ms/step - loss: 0.0041 - accuracy: 0.9994 - val_loss: 0.0061 - val_accuracy: 0.9994\n",
      "Epoch 25/100\n",
      "2226/2226 [==============================] - 6s 3ms/step - loss: 0.0046 - accuracy: 0.9993 - val_loss: 0.0067 - val_accuracy: 0.9994\n",
      "Epoch 26/100\n",
      "2226/2226 [==============================] - 9s 4ms/step - loss: 0.0060 - accuracy: 0.9987 - val_loss: 0.0068 - val_accuracy: 0.9994\n",
      "Epoch 27/100\n",
      "2226/2226 [==============================] - 17s 8ms/step - loss: 0.0045 - accuracy: 0.9994 - val_loss: 0.0083 - val_accuracy: 0.9993\n",
      "Epoch 28/100\n",
      "2226/2226 [==============================] - 11s 5ms/step - loss: 0.0064 - accuracy: 0.9982 - val_loss: 0.0071 - val_accuracy: 0.9993\n",
      "Epoch 29/100\n",
      "2226/2226 [==============================] - 9s 4ms/step - loss: 0.0053 - accuracy: 0.9983 - val_loss: 0.0074 - val_accuracy: 0.9993\n",
      "Epoch 30/100\n",
      "2226/2226 [==============================] - 13s 6ms/step - loss: 0.0069 - accuracy: 0.9989 - val_loss: 0.0078 - val_accuracy: 0.9993\n",
      "Epoch 31/100\n",
      "2226/2226 [==============================] - 21s 9ms/step - loss: 0.0066 - accuracy: 0.9985 - val_loss: 0.0080 - val_accuracy: 0.9993\n",
      "Epoch 32/100\n",
      "2226/2226 [==============================] - 16s 7ms/step - loss: 0.0043 - accuracy: 0.9995 - val_loss: 0.0083 - val_accuracy: 0.9993\n",
      "Epoch 33/100\n",
      "2226/2226 [==============================] - 11s 5ms/step - loss: 0.0056 - accuracy: 0.9988 - val_loss: 0.0061 - val_accuracy: 0.9992\n",
      "Epoch 34/100\n",
      "2226/2226 [==============================] - 7s 3ms/step - loss: 0.0162 - accuracy: 0.9955 - val_loss: 0.0071 - val_accuracy: 0.9992\n",
      "Epoch 35/100\n",
      "2226/2226 [==============================] - 7s 3ms/step - loss: 0.0053 - accuracy: 0.9988 - val_loss: 0.0067 - val_accuracy: 0.9992\n",
      "Epoch 36/100\n",
      "2226/2226 [==============================] - 15s 7ms/step - loss: 0.0063 - accuracy: 0.9987 - val_loss: 0.0097 - val_accuracy: 0.9992\n",
      "Epoch 37/100\n",
      "2226/2226 [==============================] - 17s 8ms/step - loss: 0.0074 - accuracy: 0.9975 - val_loss: 0.0071 - val_accuracy: 0.9992\n",
      "Epoch 38/100\n",
      "2226/2226 [==============================] - 12s 5ms/step - loss: 0.0062 - accuracy: 0.9979 - val_loss: 0.0065 - val_accuracy: 0.9992\n",
      "Epoch 39/100\n",
      "2226/2226 [==============================] - 8s 4ms/step - loss: 0.0052 - accuracy: 0.9985 - val_loss: 0.0067 - val_accuracy: 0.9992\n",
      "Epoch 40/100\n",
      "2226/2226 [==============================] - 8s 4ms/step - loss: 0.0047 - accuracy: 0.9993 - val_loss: 0.0092 - val_accuracy: 0.9992\n",
      "Epoch 41/100\n",
      "2226/2226 [==============================] - 9s 4ms/step - loss: 0.0072 - accuracy: 0.9977 - val_loss: 0.0080 - val_accuracy: 0.9992\n",
      "Epoch 42/100\n",
      "2226/2226 [==============================] - 11s 5ms/step - loss: 0.0058 - accuracy: 0.9988 - val_loss: 0.0099 - val_accuracy: 0.9992\n",
      "Epoch 43/100\n",
      "2226/2226 [==============================] - 10s 4ms/step - loss: 0.0068 - accuracy: 0.9976 - val_loss: 0.0071 - val_accuracy: 0.9992\n",
      "Epoch 44/100\n",
      "2226/2226 [==============================] - 9s 4ms/step - loss: 0.0066 - accuracy: 0.9981 - val_loss: 0.0077 - val_accuracy: 0.9992\n",
      "Epoch 45/100\n",
      "2226/2226 [==============================] - 9s 4ms/step - loss: 0.0067 - accuracy: 0.9985 - val_loss: 0.0107 - val_accuracy: 0.9992\n",
      "Epoch 46/100\n",
      "2226/2226 [==============================] - 7s 3ms/step - loss: 0.0100 - accuracy: 0.9957 - val_loss: 0.0091 - val_accuracy: 0.9992\n",
      "Epoch 47/100\n",
      "2226/2226 [==============================] - 9s 4ms/step - loss: 0.0063 - accuracy: 0.9974 - val_loss: 0.0113 - val_accuracy: 0.9993\n",
      "Epoch 48/100\n",
      "2226/2226 [==============================] - 8s 4ms/step - loss: 0.0074 - accuracy: 0.9979 - val_loss: 0.0121 - val_accuracy: 0.9992\n",
      "Epoch 49/100\n",
      "2226/2226 [==============================] - 8s 4ms/step - loss: 0.0147 - accuracy: 0.9934 - val_loss: 0.0073 - val_accuracy: 0.9992\n",
      "Epoch 50/100\n",
      "2226/2226 [==============================] - 8s 4ms/step - loss: 0.0065 - accuracy: 0.9978 - val_loss: 0.0108 - val_accuracy: 0.9992\n",
      "Epoch 51/100\n",
      "2226/2226 [==============================] - 10s 5ms/step - loss: 0.0123 - accuracy: 0.9945 - val_loss: 0.0117 - val_accuracy: 0.9992\n",
      "Epoch 52/100\n",
      "2226/2226 [==============================] - 13s 6ms/step - loss: 0.0082 - accuracy: 0.9970 - val_loss: 0.0099 - val_accuracy: 0.9992\n",
      "Epoch 53/100\n",
      "2226/2226 [==============================] - 12s 5ms/step - loss: 0.0078 - accuracy: 0.9976 - val_loss: 0.0106 - val_accuracy: 0.9992\n",
      "Epoch 54/100\n",
      "2226/2226 [==============================] - 9s 4ms/step - loss: 0.0111 - accuracy: 0.9958 - val_loss: 0.0102 - val_accuracy: 0.9992\n",
      "Epoch 55/100\n",
      "2226/2226 [==============================] - 9s 4ms/step - loss: 0.0095 - accuracy: 0.9965 - val_loss: 0.0102 - val_accuracy: 0.9992\n",
      "Epoch 56/100\n",
      "2226/2226 [==============================] - 10s 5ms/step - loss: 0.0067 - accuracy: 0.9983 - val_loss: 0.0091 - val_accuracy: 0.9992\n",
      "Epoch 57/100\n",
      "2226/2226 [==============================] - 12s 6ms/step - loss: 0.0090 - accuracy: 0.9966 - val_loss: 0.0099 - val_accuracy: 0.9992\n",
      "Epoch 58/100\n",
      "2226/2226 [==============================] - 12s 5ms/step - loss: 0.0072 - accuracy: 0.9972 - val_loss: 0.0104 - val_accuracy: 0.9992\n",
      "Epoch 59/100\n",
      "2226/2226 [==============================] - 13s 6ms/step - loss: 0.0065 - accuracy: 0.9982 - val_loss: 0.0150 - val_accuracy: 0.9992\n",
      "Epoch 60/100\n",
      "2226/2226 [==============================] - 13s 6ms/step - loss: 0.0137 - accuracy: 0.9944 - val_loss: 0.0099 - val_accuracy: 0.9992\n",
      "Epoch 61/100\n",
      "2226/2226 [==============================] - 14s 6ms/step - loss: 0.0058 - accuracy: 0.9986 - val_loss: 0.0091 - val_accuracy: 0.9992\n",
      "Epoch 62/100\n",
      "2226/2226 [==============================] - 13s 6ms/step - loss: 0.0071 - accuracy: 0.9979 - val_loss: 0.0076 - val_accuracy: 0.9992\n",
      "Epoch 63/100\n",
      "2226/2226 [==============================] - 15s 7ms/step - loss: 0.0078 - accuracy: 0.9979 - val_loss: 0.0156 - val_accuracy: 0.9992\n",
      "Epoch 64/100\n",
      "2226/2226 [==============================] - 12s 6ms/step - loss: 0.0058 - accuracy: 0.9990 - val_loss: 0.0083 - val_accuracy: 0.9992\n",
      "Epoch 65/100\n",
      "2226/2226 [==============================] - 15s 7ms/step - loss: 0.0079 - accuracy: 0.9974 - val_loss: 0.0114 - val_accuracy: 0.9992\n",
      "Epoch 66/100\n",
      "2226/2226 [==============================] - 14s 6ms/step - loss: 0.0085 - accuracy: 0.9964 - val_loss: 0.0121 - val_accuracy: 0.9992\n",
      "Epoch 67/100\n",
      "2226/2226 [==============================] - 14s 6ms/step - loss: 0.0091 - accuracy: 0.9966 - val_loss: 0.0103 - val_accuracy: 0.9992\n",
      "Epoch 68/100\n",
      "2226/2226 [==============================] - 15s 7ms/step - loss: 0.0125 - accuracy: 0.9948 - val_loss: 0.0129 - val_accuracy: 0.9991\n",
      "Epoch 69/100\n",
      "2226/2226 [==============================] - 20s 9ms/step - loss: 0.0099 - accuracy: 0.9961 - val_loss: 0.0120 - val_accuracy: 0.9991\n",
      "Epoch 70/100\n",
      "2226/2226 [==============================] - 27s 12ms/step - loss: 0.0084 - accuracy: 0.9970 - val_loss: 0.0102 - val_accuracy: 0.9991\n",
      "Epoch 71/100\n",
      "2226/2226 [==============================] - 19s 9ms/step - loss: 0.0063 - accuracy: 0.9978 - val_loss: 1.9431 - val_accuracy: 0.0073\n",
      "Epoch 72/100\n",
      "2226/2226 [==============================] - 13s 6ms/step - loss: 0.0154 - accuracy: 0.9948 - val_loss: 0.0168 - val_accuracy: 0.9992\n",
      "Epoch 73/100\n",
      "2226/2226 [==============================] - 12s 5ms/step - loss: 0.0078 - accuracy: 0.9978 - val_loss: 0.0116 - val_accuracy: 0.9992\n",
      "Epoch 74/100\n",
      "2226/2226 [==============================] - 9s 4ms/step - loss: 0.0058 - accuracy: 0.9989 - val_loss: 0.0108 - val_accuracy: 0.9992\n",
      "Epoch 75/100\n",
      "2226/2226 [==============================] - 9s 4ms/step - loss: 0.0059 - accuracy: 0.9985 - val_loss: 0.0073 - val_accuracy: 0.9992\n",
      "Epoch 76/100\n",
      "2226/2226 [==============================] - 9s 4ms/step - loss: 0.0039 - accuracy: 0.9994 - val_loss: 0.0045 - val_accuracy: 0.9993\n",
      "Epoch 77/100\n",
      "2226/2226 [==============================] - 9s 4ms/step - loss: 0.0041 - accuracy: 0.9994 - val_loss: 0.0070 - val_accuracy: 0.9992\n",
      "Epoch 78/100\n",
      "2226/2226 [==============================] - 10s 5ms/step - loss: 0.0044 - accuracy: 0.9995 - val_loss: 0.0181 - val_accuracy: 0.9991\n",
      "Epoch 79/100\n",
      "2226/2226 [==============================] - 9s 4ms/step - loss: 0.0042 - accuracy: 0.9994 - val_loss: 0.0114 - val_accuracy: 0.9991\n",
      "Epoch 80/100\n",
      "2226/2226 [==============================] - 10s 4ms/step - loss: 0.0043 - accuracy: 0.9995 - val_loss: 0.0098 - val_accuracy: 0.9991\n",
      "Epoch 81/100\n",
      "2226/2226 [==============================] - 9s 4ms/step - loss: 0.0061 - accuracy: 0.9990 - val_loss: 0.0145 - val_accuracy: 0.9991\n",
      "Epoch 82/100\n",
      "2226/2226 [==============================] - 10s 5ms/step - loss: 0.0046 - accuracy: 0.9989 - val_loss: 0.0088 - val_accuracy: 0.9992\n",
      "Epoch 83/100\n",
      "2226/2226 [==============================] - 10s 4ms/step - loss: 0.0037 - accuracy: 0.9996 - val_loss: 0.0143 - val_accuracy: 0.9991\n",
      "Epoch 84/100\n",
      "2226/2226 [==============================] - 9s 4ms/step - loss: 0.0053 - accuracy: 0.9994 - val_loss: 0.0053 - val_accuracy: 0.9991\n",
      "Epoch 85/100\n",
      "2226/2226 [==============================] - 9s 4ms/step - loss: 0.0051 - accuracy: 0.9993 - val_loss: 0.0090 - val_accuracy: 0.9992\n",
      "Epoch 86/100\n",
      "2226/2226 [==============================] - 10s 4ms/step - loss: 0.0042 - accuracy: 0.9995 - val_loss: 0.0087 - val_accuracy: 0.9992\n",
      "Epoch 87/100\n",
      "2226/2226 [==============================] - 9s 4ms/step - loss: 0.0053 - accuracy: 0.9994 - val_loss: 0.0082 - val_accuracy: 0.9992\n",
      "Epoch 88/100\n",
      "2226/2226 [==============================] - 9s 4ms/step - loss: 0.0042 - accuracy: 0.9994 - val_loss: 0.0152 - val_accuracy: 0.9992\n",
      "Epoch 89/100\n",
      "2226/2226 [==============================] - 10s 4ms/step - loss: 0.0053 - accuracy: 0.9988 - val_loss: 0.0082 - val_accuracy: 0.9992\n",
      "Epoch 90/100\n",
      "2226/2226 [==============================] - 8s 4ms/step - loss: 0.0055 - accuracy: 0.9987 - val_loss: 0.0121 - val_accuracy: 0.9992\n",
      "Epoch 91/100\n",
      "2226/2226 [==============================] - 10s 4ms/step - loss: 0.0105 - accuracy: 0.9962 - val_loss: 0.0096 - val_accuracy: 0.9992\n",
      "Epoch 92/100\n",
      "2226/2226 [==============================] - 14s 6ms/step - loss: 0.0066 - accuracy: 0.9985 - val_loss: 0.0115 - val_accuracy: 0.9992\n",
      "Epoch 93/100\n",
      "2226/2226 [==============================] - 23s 10ms/step - loss: 0.0053 - accuracy: 0.9990 - val_loss: 0.0114 - val_accuracy: 0.9992\n",
      "Epoch 94/100\n",
      "2226/2226 [==============================] - 19s 9ms/step - loss: 0.0041 - accuracy: 0.9995 - val_loss: 0.0086 - val_accuracy: 0.9992\n",
      "Epoch 95/100\n",
      "2226/2226 [==============================] - 19s 8ms/step - loss: 0.0039 - accuracy: 0.9995 - val_loss: 0.0085 - val_accuracy: 0.9992\n",
      "Epoch 96/100\n",
      "2226/2226 [==============================] - 18s 8ms/step - loss: 0.0053 - accuracy: 0.9991 - val_loss: 0.0100 - val_accuracy: 0.9992\n",
      "Epoch 97/100\n",
      "2226/2226 [==============================] - 19s 8ms/step - loss: 0.0056 - accuracy: 0.9993 - val_loss: 0.0134 - val_accuracy: 0.9992\n",
      "Epoch 98/100\n",
      "2226/2226 [==============================] - 24s 11ms/step - loss: 0.0067 - accuracy: 0.9986 - val_loss: 0.0105 - val_accuracy: 0.9992\n",
      "Epoch 99/100\n",
      "2226/2226 [==============================] - 19s 9ms/step - loss: 0.0067 - accuracy: 0.9990 - val_loss: 0.0157 - val_accuracy: 0.9992\n",
      "Epoch 100/100\n",
      "2226/2226 [==============================] - 20s 9ms/step - loss: 0.0060 - accuracy: 0.9987 - val_loss: 0.0094 - val_accuracy: 0.9992\n"
     ]
    }
   ],
   "source": [
    "history = model.fit(x_train, y_train, validation_data=(x_validate, y_validate), epochs=100, shuffle=True, batch_size=64)"
   ]
  },
  {
   "cell_type": "code",
   "execution_count": 14,
   "metadata": {},
   "outputs": [
    {
     "output_type": "display_data",
     "data": {
      "text/plain": "<Figure size 432x288 with 1 Axes>",
      "image/svg+xml": "<?xml version=\"1.0\" encoding=\"utf-8\" standalone=\"no\"?>\n<!DOCTYPE svg PUBLIC \"-//W3C//DTD SVG 1.1//EN\"\n  \"http://www.w3.org/Graphics/SVG/1.1/DTD/svg11.dtd\">\n<!-- Created with matplotlib (https://matplotlib.org/) -->\n<svg height=\"248.518125pt\" version=\"1.1\" viewBox=\"0 0 372.103125 248.518125\" width=\"372.103125pt\" xmlns=\"http://www.w3.org/2000/svg\" xmlns:xlink=\"http://www.w3.org/1999/xlink\">\n <metadata>\n  <rdf:RDF xmlns:cc=\"http://creativecommons.org/ns#\" xmlns:dc=\"http://purl.org/dc/elements/1.1/\" xmlns:rdf=\"http://www.w3.org/1999/02/22-rdf-syntax-ns#\">\n   <cc:Work>\n    <dc:type rdf:resource=\"http://purl.org/dc/dcmitype/StillImage\"/>\n    <dc:date>2021-04-03T12:27:56.758624</dc:date>\n    <dc:format>image/svg+xml</dc:format>\n    <dc:creator>\n     <cc:Agent>\n      <dc:title>Matplotlib v3.3.4, https://matplotlib.org/</dc:title>\n     </cc:Agent>\n    </dc:creator>\n   </cc:Work>\n  </rdf:RDF>\n </metadata>\n <defs>\n  <style type=\"text/css\">*{stroke-linecap:butt;stroke-linejoin:round;}</style>\n </defs>\n <g id=\"figure_1\">\n  <g id=\"patch_1\">\n   <path d=\"M 0 248.518125 \nL 372.103125 248.518125 \nL 372.103125 0 \nL 0 0 \nz\n\" style=\"fill:none;\"/>\n  </g>\n  <g id=\"axes_1\">\n   <g id=\"patch_2\">\n    <path d=\"M 30.103125 224.64 \nL 364.903125 224.64 \nL 364.903125 7.2 \nL 30.103125 7.2 \nz\n\" style=\"fill:#ffffff;\"/>\n   </g>\n   <g id=\"matplotlib.axis_1\">\n    <g id=\"xtick_1\">\n     <g id=\"line2d_1\">\n      <defs>\n       <path d=\"M 0 0 \nL 0 3.5 \n\" id=\"m61d613017f\" style=\"stroke:#000000;stroke-width:0.8;\"/>\n      </defs>\n      <g>\n       <use style=\"stroke:#000000;stroke-width:0.8;\" x=\"45.321307\" xlink:href=\"#m61d613017f\" y=\"224.64\"/>\n      </g>\n     </g>\n     <g id=\"text_1\">\n      <!-- 0 -->\n      <g transform=\"translate(42.140057 239.238437)scale(0.1 -0.1)\">\n       <defs>\n        <path d=\"M 31.78125 66.40625 \nQ 24.171875 66.40625 20.328125 58.90625 \nQ 16.5 51.421875 16.5 36.375 \nQ 16.5 21.390625 20.328125 13.890625 \nQ 24.171875 6.390625 31.78125 6.390625 \nQ 39.453125 6.390625 43.28125 13.890625 \nQ 47.125 21.390625 47.125 36.375 \nQ 47.125 51.421875 43.28125 58.90625 \nQ 39.453125 66.40625 31.78125 66.40625 \nz\nM 31.78125 74.21875 \nQ 44.046875 74.21875 50.515625 64.515625 \nQ 56.984375 54.828125 56.984375 36.375 \nQ 56.984375 17.96875 50.515625 8.265625 \nQ 44.046875 -1.421875 31.78125 -1.421875 \nQ 19.53125 -1.421875 13.0625 8.265625 \nQ 6.59375 17.96875 6.59375 36.375 \nQ 6.59375 54.828125 13.0625 64.515625 \nQ 19.53125 74.21875 31.78125 74.21875 \nz\n\" id=\"DejaVuSans-48\"/>\n       </defs>\n       <use xlink:href=\"#DejaVuSans-48\"/>\n      </g>\n     </g>\n    </g>\n    <g id=\"xtick_2\">\n     <g id=\"line2d_2\">\n      <g>\n       <use style=\"stroke:#000000;stroke-width:0.8;\" x=\"106.80891\" xlink:href=\"#m61d613017f\" y=\"224.64\"/>\n      </g>\n     </g>\n     <g id=\"text_2\">\n      <!-- 20 -->\n      <g transform=\"translate(100.44641 239.238437)scale(0.1 -0.1)\">\n       <defs>\n        <path d=\"M 19.1875 8.296875 \nL 53.609375 8.296875 \nL 53.609375 0 \nL 7.328125 0 \nL 7.328125 8.296875 \nQ 12.9375 14.109375 22.625 23.890625 \nQ 32.328125 33.6875 34.8125 36.53125 \nQ 39.546875 41.84375 41.421875 45.53125 \nQ 43.3125 49.21875 43.3125 52.78125 \nQ 43.3125 58.59375 39.234375 62.25 \nQ 35.15625 65.921875 28.609375 65.921875 \nQ 23.96875 65.921875 18.8125 64.3125 \nQ 13.671875 62.703125 7.8125 59.421875 \nL 7.8125 69.390625 \nQ 13.765625 71.78125 18.9375 73 \nQ 24.125 74.21875 28.421875 74.21875 \nQ 39.75 74.21875 46.484375 68.546875 \nQ 53.21875 62.890625 53.21875 53.421875 \nQ 53.21875 48.921875 51.53125 44.890625 \nQ 49.859375 40.875 45.40625 35.40625 \nQ 44.1875 33.984375 37.640625 27.21875 \nQ 31.109375 20.453125 19.1875 8.296875 \nz\n\" id=\"DejaVuSans-50\"/>\n       </defs>\n       <use xlink:href=\"#DejaVuSans-50\"/>\n       <use x=\"63.623047\" xlink:href=\"#DejaVuSans-48\"/>\n      </g>\n     </g>\n    </g>\n    <g id=\"xtick_3\">\n     <g id=\"line2d_3\">\n      <g>\n       <use style=\"stroke:#000000;stroke-width:0.8;\" x=\"168.296513\" xlink:href=\"#m61d613017f\" y=\"224.64\"/>\n      </g>\n     </g>\n     <g id=\"text_3\">\n      <!-- 40 -->\n      <g transform=\"translate(161.934013 239.238437)scale(0.1 -0.1)\">\n       <defs>\n        <path d=\"M 37.796875 64.3125 \nL 12.890625 25.390625 \nL 37.796875 25.390625 \nz\nM 35.203125 72.90625 \nL 47.609375 72.90625 \nL 47.609375 25.390625 \nL 58.015625 25.390625 \nL 58.015625 17.1875 \nL 47.609375 17.1875 \nL 47.609375 0 \nL 37.796875 0 \nL 37.796875 17.1875 \nL 4.890625 17.1875 \nL 4.890625 26.703125 \nz\n\" id=\"DejaVuSans-52\"/>\n       </defs>\n       <use xlink:href=\"#DejaVuSans-52\"/>\n       <use x=\"63.623047\" xlink:href=\"#DejaVuSans-48\"/>\n      </g>\n     </g>\n    </g>\n    <g id=\"xtick_4\">\n     <g id=\"line2d_4\">\n      <g>\n       <use style=\"stroke:#000000;stroke-width:0.8;\" x=\"229.784117\" xlink:href=\"#m61d613017f\" y=\"224.64\"/>\n      </g>\n     </g>\n     <g id=\"text_4\">\n      <!-- 60 -->\n      <g transform=\"translate(223.421617 239.238437)scale(0.1 -0.1)\">\n       <defs>\n        <path d=\"M 33.015625 40.375 \nQ 26.375 40.375 22.484375 35.828125 \nQ 18.609375 31.296875 18.609375 23.390625 \nQ 18.609375 15.53125 22.484375 10.953125 \nQ 26.375 6.390625 33.015625 6.390625 \nQ 39.65625 6.390625 43.53125 10.953125 \nQ 47.40625 15.53125 47.40625 23.390625 \nQ 47.40625 31.296875 43.53125 35.828125 \nQ 39.65625 40.375 33.015625 40.375 \nz\nM 52.59375 71.296875 \nL 52.59375 62.3125 \nQ 48.875 64.0625 45.09375 64.984375 \nQ 41.3125 65.921875 37.59375 65.921875 \nQ 27.828125 65.921875 22.671875 59.328125 \nQ 17.53125 52.734375 16.796875 39.40625 \nQ 19.671875 43.65625 24.015625 45.921875 \nQ 28.375 48.1875 33.59375 48.1875 \nQ 44.578125 48.1875 50.953125 41.515625 \nQ 57.328125 34.859375 57.328125 23.390625 \nQ 57.328125 12.15625 50.6875 5.359375 \nQ 44.046875 -1.421875 33.015625 -1.421875 \nQ 20.359375 -1.421875 13.671875 8.265625 \nQ 6.984375 17.96875 6.984375 36.375 \nQ 6.984375 53.65625 15.1875 63.9375 \nQ 23.390625 74.21875 37.203125 74.21875 \nQ 40.921875 74.21875 44.703125 73.484375 \nQ 48.484375 72.75 52.59375 71.296875 \nz\n\" id=\"DejaVuSans-54\"/>\n       </defs>\n       <use xlink:href=\"#DejaVuSans-54\"/>\n       <use x=\"63.623047\" xlink:href=\"#DejaVuSans-48\"/>\n      </g>\n     </g>\n    </g>\n    <g id=\"xtick_5\">\n     <g id=\"line2d_5\">\n      <g>\n       <use style=\"stroke:#000000;stroke-width:0.8;\" x=\"291.27172\" xlink:href=\"#m61d613017f\" y=\"224.64\"/>\n      </g>\n     </g>\n     <g id=\"text_5\">\n      <!-- 80 -->\n      <g transform=\"translate(284.90922 239.238437)scale(0.1 -0.1)\">\n       <defs>\n        <path d=\"M 31.78125 34.625 \nQ 24.75 34.625 20.71875 30.859375 \nQ 16.703125 27.09375 16.703125 20.515625 \nQ 16.703125 13.921875 20.71875 10.15625 \nQ 24.75 6.390625 31.78125 6.390625 \nQ 38.8125 6.390625 42.859375 10.171875 \nQ 46.921875 13.96875 46.921875 20.515625 \nQ 46.921875 27.09375 42.890625 30.859375 \nQ 38.875 34.625 31.78125 34.625 \nz\nM 21.921875 38.8125 \nQ 15.578125 40.375 12.03125 44.71875 \nQ 8.5 49.078125 8.5 55.328125 \nQ 8.5 64.0625 14.71875 69.140625 \nQ 20.953125 74.21875 31.78125 74.21875 \nQ 42.671875 74.21875 48.875 69.140625 \nQ 55.078125 64.0625 55.078125 55.328125 \nQ 55.078125 49.078125 51.53125 44.71875 \nQ 48 40.375 41.703125 38.8125 \nQ 48.828125 37.15625 52.796875 32.3125 \nQ 56.78125 27.484375 56.78125 20.515625 \nQ 56.78125 9.90625 50.3125 4.234375 \nQ 43.84375 -1.421875 31.78125 -1.421875 \nQ 19.734375 -1.421875 13.25 4.234375 \nQ 6.78125 9.90625 6.78125 20.515625 \nQ 6.78125 27.484375 10.78125 32.3125 \nQ 14.796875 37.15625 21.921875 38.8125 \nz\nM 18.3125 54.390625 \nQ 18.3125 48.734375 21.84375 45.5625 \nQ 25.390625 42.390625 31.78125 42.390625 \nQ 38.140625 42.390625 41.71875 45.5625 \nQ 45.3125 48.734375 45.3125 54.390625 \nQ 45.3125 60.0625 41.71875 63.234375 \nQ 38.140625 66.40625 31.78125 66.40625 \nQ 25.390625 66.40625 21.84375 63.234375 \nQ 18.3125 60.0625 18.3125 54.390625 \nz\n\" id=\"DejaVuSans-56\"/>\n       </defs>\n       <use xlink:href=\"#DejaVuSans-56\"/>\n       <use x=\"63.623047\" xlink:href=\"#DejaVuSans-48\"/>\n      </g>\n     </g>\n    </g>\n    <g id=\"xtick_6\">\n     <g id=\"line2d_6\">\n      <g>\n       <use style=\"stroke:#000000;stroke-width:0.8;\" x=\"352.759323\" xlink:href=\"#m61d613017f\" y=\"224.64\"/>\n      </g>\n     </g>\n     <g id=\"text_6\">\n      <!-- 100 -->\n      <g transform=\"translate(343.215573 239.238437)scale(0.1 -0.1)\">\n       <defs>\n        <path d=\"M 12.40625 8.296875 \nL 28.515625 8.296875 \nL 28.515625 63.921875 \nL 10.984375 60.40625 \nL 10.984375 69.390625 \nL 28.421875 72.90625 \nL 38.28125 72.90625 \nL 38.28125 8.296875 \nL 54.390625 8.296875 \nL 54.390625 0 \nL 12.40625 0 \nz\n\" id=\"DejaVuSans-49\"/>\n       </defs>\n       <use xlink:href=\"#DejaVuSans-49\"/>\n       <use x=\"63.623047\" xlink:href=\"#DejaVuSans-48\"/>\n       <use x=\"127.246094\" xlink:href=\"#DejaVuSans-48\"/>\n      </g>\n     </g>\n    </g>\n   </g>\n   <g id=\"matplotlib.axis_2\">\n    <g id=\"ytick_1\">\n     <g id=\"line2d_7\">\n      <defs>\n       <path d=\"M 0 0 \nL -3.5 0 \n\" id=\"m466a29e54f\" style=\"stroke:#000000;stroke-width:0.8;\"/>\n      </defs>\n      <g>\n       <use style=\"stroke:#000000;stroke-width:0.8;\" x=\"30.103125\" xlink:href=\"#m466a29e54f\" y=\"216.204182\"/>\n      </g>\n     </g>\n     <g id=\"text_7\">\n      <!-- 0.0 -->\n      <g transform=\"translate(7.2 220.003401)scale(0.1 -0.1)\">\n       <defs>\n        <path d=\"M 10.6875 12.40625 \nL 21 12.40625 \nL 21 0 \nL 10.6875 0 \nz\n\" id=\"DejaVuSans-46\"/>\n       </defs>\n       <use xlink:href=\"#DejaVuSans-48\"/>\n       <use x=\"63.623047\" xlink:href=\"#DejaVuSans-46\"/>\n       <use x=\"95.410156\" xlink:href=\"#DejaVuSans-48\"/>\n      </g>\n     </g>\n    </g>\n    <g id=\"ytick_2\">\n     <g id=\"line2d_8\">\n      <g>\n       <use style=\"stroke:#000000;stroke-width:0.8;\" x=\"30.103125\" xlink:href=\"#m466a29e54f\" y=\"176.363286\"/>\n      </g>\n     </g>\n     <g id=\"text_8\">\n      <!-- 0.2 -->\n      <g transform=\"translate(7.2 180.162505)scale(0.1 -0.1)\">\n       <use xlink:href=\"#DejaVuSans-48\"/>\n       <use x=\"63.623047\" xlink:href=\"#DejaVuSans-46\"/>\n       <use x=\"95.410156\" xlink:href=\"#DejaVuSans-50\"/>\n      </g>\n     </g>\n    </g>\n    <g id=\"ytick_3\">\n     <g id=\"line2d_9\">\n      <g>\n       <use style=\"stroke:#000000;stroke-width:0.8;\" x=\"30.103125\" xlink:href=\"#m466a29e54f\" y=\"136.52239\"/>\n      </g>\n     </g>\n     <g id=\"text_9\">\n      <!-- 0.4 -->\n      <g transform=\"translate(7.2 140.321609)scale(0.1 -0.1)\">\n       <use xlink:href=\"#DejaVuSans-48\"/>\n       <use x=\"63.623047\" xlink:href=\"#DejaVuSans-46\"/>\n       <use x=\"95.410156\" xlink:href=\"#DejaVuSans-52\"/>\n      </g>\n     </g>\n    </g>\n    <g id=\"ytick_4\">\n     <g id=\"line2d_10\">\n      <g>\n       <use style=\"stroke:#000000;stroke-width:0.8;\" x=\"30.103125\" xlink:href=\"#m466a29e54f\" y=\"96.681494\"/>\n      </g>\n     </g>\n     <g id=\"text_10\">\n      <!-- 0.6 -->\n      <g transform=\"translate(7.2 100.480713)scale(0.1 -0.1)\">\n       <use xlink:href=\"#DejaVuSans-48\"/>\n       <use x=\"63.623047\" xlink:href=\"#DejaVuSans-46\"/>\n       <use x=\"95.410156\" xlink:href=\"#DejaVuSans-54\"/>\n      </g>\n     </g>\n    </g>\n    <g id=\"ytick_5\">\n     <g id=\"line2d_11\">\n      <g>\n       <use style=\"stroke:#000000;stroke-width:0.8;\" x=\"30.103125\" xlink:href=\"#m466a29e54f\" y=\"56.840598\"/>\n      </g>\n     </g>\n     <g id=\"text_11\">\n      <!-- 0.8 -->\n      <g transform=\"translate(7.2 60.639817)scale(0.1 -0.1)\">\n       <use xlink:href=\"#DejaVuSans-48\"/>\n       <use x=\"63.623047\" xlink:href=\"#DejaVuSans-46\"/>\n       <use x=\"95.410156\" xlink:href=\"#DejaVuSans-56\"/>\n      </g>\n     </g>\n    </g>\n    <g id=\"ytick_6\">\n     <g id=\"line2d_12\">\n      <g>\n       <use style=\"stroke:#000000;stroke-width:0.8;\" x=\"30.103125\" xlink:href=\"#m466a29e54f\" y=\"16.999703\"/>\n      </g>\n     </g>\n     <g id=\"text_12\">\n      <!-- 1.0 -->\n      <g transform=\"translate(7.2 20.798921)scale(0.1 -0.1)\">\n       <use xlink:href=\"#DejaVuSans-49\"/>\n       <use x=\"63.623047\" xlink:href=\"#DejaVuSans-46\"/>\n       <use x=\"95.410156\" xlink:href=\"#DejaVuSans-48\"/>\n      </g>\n     </g>\n    </g>\n   </g>\n   <g id=\"line2d_13\">\n    <path clip-path=\"url(#p68e03d7a8c)\" d=\"M 45.321307 17.271084 \nL 48.395687 17.153583 \nL 51.470067 17.14659 \nL 54.544447 17.142387 \nL 57.618827 17.143788 \nL 60.693208 17.140985 \nL 63.767588 17.136794 \nL 66.841968 17.132591 \nL 69.916348 17.132591 \nL 72.990728 17.131202 \nL 76.065108 17.1284 \nL 79.139489 17.1284 \nL 82.213869 17.121406 \nL 85.288249 17.125597 \nL 88.362629 17.122807 \nL 91.437009 17.122807 \nL 94.511389 17.126998 \nL 97.58577 17.120005 \nL 100.66015 17.118604 \nL 103.73453 17.121406 \nL 106.80891 17.117203 \nL 109.88329 17.118604 \nL 112.95767 17.11161 \nL 116.032051 17.115814 \nL 119.106431 17.132591 \nL 122.180811 17.178755 \nL 125.255191 17.124208 \nL 128.329571 17.293465 \nL 131.403951 17.314446 \nL 134.478332 17.184359 \nL 137.552712 17.327043 \nL 140.627092 17.10882 \nL 143.701472 17.173163 \nL 146.775852 18.096423 \nL 149.850232 17.366214 \nL 152.924613 17.189952 \nL 155.998993 17.549458 \nL 159.073373 17.325642 \nL 162.147753 17.343833 \nL 165.222133 17.250103 \nL 168.296513 17.538273 \nL 171.370894 17.359209 \nL 174.445274 17.490708 \nL 177.519654 17.487906 \nL 180.594034 17.273886 \nL 183.668414 17.624997 \nL 186.742794 17.413767 \nL 189.817175 17.580234 \nL 192.891555 17.998502 \nL 195.965935 17.841831 \nL 199.040315 17.753694 \nL 202.114695 17.734115 \nL 205.189075 17.913167 \nL 208.263456 17.820839 \nL 211.337836 17.78168 \nL 214.412216 17.297668 \nL 217.486596 17.97472 \nL 220.560976 17.652983 \nL 223.635356 17.227721 \nL 226.709737 18.171962 \nL 229.784117 17.4963 \nL 232.858497 17.76349 \nL 235.932877 17.28507 \nL 239.007257 17.461333 \nL 242.081637 17.766292 \nL 245.156018 17.553661 \nL 248.230398 17.913167 \nL 251.304778 18.141186 \nL 254.379158 17.755095 \nL 257.453538 17.494911 \nL 260.527918 17.454339 \nL 263.602299 17.618004 \nL 266.676679 17.729912 \nL 269.751059 17.381602 \nL 272.825439 17.35782 \nL 275.899819 17.178755 \nL 278.974199 17.126998 \nL 282.04858 17.117203 \nL 285.12296 17.110209 \nL 288.19734 17.107419 \nL 291.27172 17.269682 \nL 294.3461 17.159176 \nL 297.42048 17.104617 \nL 300.494861 17.114413 \nL 303.569241 17.121406 \nL 306.643621 17.110209 \nL 309.718001 17.103216 \nL 312.792381 17.121406 \nL 315.866761 17.276676 \nL 318.941142 17.28228 \nL 322.015522 17.374597 \nL 325.089902 17.209531 \nL 328.164282 17.132591 \nL 331.238662 17.118604 \nL 334.313042 17.145189 \nL 337.387423 17.20813 \nL 340.461803 17.126998 \nL 343.536183 17.325642 \nL 346.610563 17.303261 \nL 349.684943 17.202538 \n\" style=\"fill:none;stroke:#1f77b4;stroke-linecap:square;stroke-width:1.5;\"/>\n   </g>\n   <g id=\"line2d_14\">\n    <path clip-path=\"url(#p68e03d7a8c)\" d=\"M 45.321307 17.115113 \nL 48.395687 17.122107 \nL 51.470067 17.09063 \nL 54.544447 17.094121 \nL 57.618827 17.097623 \nL 60.693208 17.087127 \nL 63.767588 17.094121 \nL 66.841968 17.094121 \nL 69.916348 17.083636 \nL 72.990728 17.087127 \nL 76.065108 17.09063 \nL 79.139489 17.087127 \nL 82.213869 17.10812 \nL 85.288249 17.087127 \nL 88.362629 17.104617 \nL 91.437009 17.101114 \nL 94.511389 17.118604 \nL 97.58577 17.122107 \nL 100.66015 17.118604 \nL 103.73453 17.11161 \nL 106.80891 17.136094 \nL 109.88329 17.125597 \nL 112.95767 17.150081 \nL 116.032051 17.122107 \nL 119.106431 17.1291 \nL 122.180811 17.1291 \nL 125.255191 17.146578 \nL 128.329571 17.143087 \nL 131.403951 17.143087 \nL 134.478332 17.146578 \nL 137.552712 17.139584 \nL 140.627092 17.146578 \nL 143.701472 17.164068 \nL 146.775852 17.153571 \nL 149.850232 17.150081 \nL 152.924613 17.150081 \nL 155.998993 17.150081 \nL 159.073373 17.160577 \nL 162.147753 17.160577 \nL 165.222133 17.153571 \nL 168.296513 17.150081 \nL 171.370894 17.153571 \nL 174.445274 17.157074 \nL 177.519654 17.160577 \nL 180.594034 17.150081 \nL 183.668414 17.150081 \nL 186.742794 17.146578 \nL 189.817175 17.153571 \nL 192.891555 17.160577 \nL 195.965935 17.157074 \nL 199.040315 17.157074 \nL 202.114695 17.157074 \nL 205.189075 17.153571 \nL 208.263456 17.160577 \nL 211.337836 17.153571 \nL 214.412216 17.153571 \nL 217.486596 17.150081 \nL 220.560976 17.150081 \nL 223.635356 17.153571 \nL 226.709737 17.160577 \nL 229.784117 17.157074 \nL 232.858497 17.164068 \nL 235.932877 17.164068 \nL 239.007257 17.164068 \nL 242.081637 17.164068 \nL 245.156018 17.157074 \nL 248.230398 17.160577 \nL 251.304778 17.178055 \nL 254.379158 17.185048 \nL 257.453538 17.178055 \nL 260.527918 214.756364 \nL 263.602299 17.164068 \nL 266.676679 17.157074 \nL 269.751059 17.160577 \nL 272.825439 17.160577 \nL 275.899819 17.146578 \nL 278.974199 17.153571 \nL 282.04858 17.174564 \nL 285.12296 17.171061 \nL 288.19734 17.178055 \nL 291.27172 17.174564 \nL 294.3461 17.16757 \nL 297.42048 17.171061 \nL 300.494861 17.174564 \nL 303.569241 17.16757 \nL 306.643621 17.160577 \nL 309.718001 17.150081 \nL 312.792381 17.153571 \nL 315.866761 17.153571 \nL 318.941142 17.157074 \nL 322.015522 17.153571 \nL 325.089902 17.150081 \nL 328.164282 17.153571 \nL 331.238662 17.150081 \nL 334.313042 17.153571 \nL 337.387423 17.150081 \nL 340.461803 17.153571 \nL 343.536183 17.157074 \nL 346.610563 17.157074 \nL 349.684943 17.160577 \n\" style=\"fill:none;stroke:#ff7f0e;stroke-linecap:square;stroke-width:1.5;\"/>\n   </g>\n   <g id=\"patch_3\">\n    <path d=\"M 30.103125 224.64 \nL 30.103125 7.2 \n\" style=\"fill:none;stroke:#000000;stroke-linecap:square;stroke-linejoin:miter;stroke-width:0.8;\"/>\n   </g>\n   <g id=\"patch_4\">\n    <path d=\"M 364.903125 224.64 \nL 364.903125 7.2 \n\" style=\"fill:none;stroke:#000000;stroke-linecap:square;stroke-linejoin:miter;stroke-width:0.8;\"/>\n   </g>\n   <g id=\"patch_5\">\n    <path d=\"M 30.103125 224.64 \nL 364.903125 224.64 \n\" style=\"fill:none;stroke:#000000;stroke-linecap:square;stroke-linejoin:miter;stroke-width:0.8;\"/>\n   </g>\n   <g id=\"patch_6\">\n    <path d=\"M 30.103125 7.2 \nL 364.903125 7.2 \n\" style=\"fill:none;stroke:#000000;stroke-linecap:square;stroke-linejoin:miter;stroke-width:0.8;\"/>\n   </g>\n  </g>\n </g>\n <defs>\n  <clipPath id=\"p68e03d7a8c\">\n   <rect height=\"217.44\" width=\"334.8\" x=\"30.103125\" y=\"7.2\"/>\n  </clipPath>\n </defs>\n</svg>\n",
      "image/png": "[encoded data removed]"
     },
     "metadata": {
      "needs_background": "light"
     }
    }
   ],
   "source": [
    "import matplotlib.pyplot as plt\n",
    "accuracy = history.history[\"accuracy\"]\n",
    "val_accuracy = history.history[\"val_accuracy\"]\n",
    "\n",
    "plt.plot(range(100), accuracy)\n",
    "plt.plot(range(100), val_accuracy)\n",
    "plt.show()"
   ]
  },
  {
   "cell_type": "code",
   "execution_count": 15,
   "metadata": {},
   "outputs": [
    {
     "output_type": "stream",
     "name": "stdout",
     "text": [
      "668/668 [==============================] - 5s 7ms/step - loss: 0.0324 - accuracy: 0.9924\n",
      "\n",
      "And the Score is 99%\n"
     ]
    }
   ],
   "source": [
    "score = model.evaluate(x_test, y_test, batch_size=128)\n",
    "print('\\nAnd the Score is {:.0%}'.format(score[1]))"
   ]
  },
  {
   "cell_type": "code",
   "execution_count": 17,
   "metadata": {},
   "outputs": [],
   "source": [
    "data_to_predict = x_test.to_numpy()[0]\n",
    "data_to_predict = data_to_predict.reshape((-1, 30))\n",
    "prediction = model.predict([np.array(data_to_predict)])"
   ]
  },
  {
   "cell_type": "code",
   "execution_count": 18,
   "metadata": {},
   "outputs": [
    {
     "output_type": "stream",
     "name": "stdout",
     "text": [
      "Predicted Value: [[6.7328335e-07]]\n"
     ]
    }
   ],
   "source": [
    "print(\"Predicted Value:\", prediction)"
   ]
  },
  {
   "cell_type": "code",
   "execution_count": null,
   "metadata": {},
   "outputs": [],
   "source": []
  }
 ],
 "metadata": {
  "kernelspec": {
   "name": "python392jvsc74a57bd0767d51c1340bd893661ea55ea3124f6de3c7a262a8b4abca0554b478b1e2ff90",
   "display_name": "Python 3.9.2 64-bit"
  },
  "language_info": {
   "codemirror_mode": {
    "name": "ipython",
    "version": 3
   },
   "file_extension": ".py",
   "mimetype": "text/x-python",
   "name": "python",
   "nbconvert_exporter": "python",
   "pygments_lexer": "ipython3",
   "version": "3.9.2-final"
  }
 },
 "nbformat": 4,
 "nbformat_minor": 2
}