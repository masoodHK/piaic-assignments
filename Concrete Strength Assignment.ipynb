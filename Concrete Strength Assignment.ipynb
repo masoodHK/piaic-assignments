{
 "cells": [
  {
   "cell_type": "markdown",
   "metadata": {},
   "source": [
    "# Assignment: Compresive Strength Concrete Problem\n",
    "\n",
    "\n",
    "### Abstract: \n",
    "\n",
    "Concrete is the most important material in civil engineering. The concrete compressive strength (concrete strength to bear the load) is a highly nonlinear function of age and ingredients.  <br><br>\n",
    "\n",
    "<table border=\"1\"  cellpadding=\"6\" bordercolor=\"red\">\n",
    "\t<tbody>\n",
    "        <tr>\n",
    "\t\t<td bgcolor=\"#DDEEFF\"><p class=\"normal\"><b>Data Set Characteristics:&nbsp;&nbsp;</b></p></td>\n",
    "\t\t<td><p class=\"normal\">Multivariate</p></td>\n",
    "\t\t<td bgcolor=\"#DDEEFF\"><p class=\"normal\"><b>Number of Instances:</b></p></td>\n",
    "\t\t<td><p class=\"normal\">1030</p></td>\n",
    "\t\t<td bgcolor=\"#DDEEFF\"><p class=\"normal\"><b>Area:</b></p></td>\n",
    "\t\t<td><p class=\"normal\">Physical</p></td>\n",
    "        </tr>\n",
    "     </tbody>\n",
    "    </table>\n",
    "<table border=\"1\" cellpadding=\"6\">\n",
    "    <tbody>\n",
    "        <tr>\n",
    "            <td bgcolor=\"#DDEEFF\"><p class=\"normal\"><b>Attribute Characteristics:</b></p></td>\n",
    "            <td><p class=\"normal\">Real</p></td>\n",
    "            <td bgcolor=\"#DDEEFF\"><p class=\"normal\"><b>Number of Attributes:</b></p></td>\n",
    "            <td><p class=\"normal\">9</p></td>\n",
    "            <td bgcolor=\"#DDEEFF\"><p class=\"normal\"><b>Date Donated</b></p></td>\n",
    "            <td><p class=\"normal\">2007-08-03</p></td>\n",
    "        </tr>\n",
    "     </tbody>\n",
    "    </table>\n",
    "<table border=\"1\" cellpadding=\"6\">\t\n",
    "    <tbody>\n",
    "    <tr>\n",
    "\t\t<td bgcolor=\"#DDEEFF\"><p class=\"normal\"><b>Associated Tasks:</b></p></td>\n",
    "\t\t<td><p class=\"normal\">Regression</p></td>\n",
    "\t\t<td bgcolor=\"#DDEEFF\"><p class=\"normal\"><b>Missing Values?</b></p></td>\n",
    "\t\t<td><p class=\"normal\">N/A</p></td>\n",
    "\t\t<td bgcolor=\"#DDEEFF\"><p class=\"normal\"><b>Number of Web Hits:</b></p></td>\n",
    "\t\t<td><p class=\"normal\">231464</p></td>\n",
    "\t</tr>\n",
    "    </tbody>\n",
    "    </table>"
   ]
  },
  {
   "cell_type": "markdown",
   "metadata": {},
   "source": [
    "###  Description:\n",
    "| Features Name | Data Type | Measurement | Description |\n",
    "| -- | -- | -- | -- |\n",
    "Cement (component 1) | quantitative | kg in a m3 mixture | Input Variable\n",
    "Blast Furnace Slag (component 2) | quantitative | kg in a m3 mixture | Input Variable\n",
    "Fly Ash (component 3) | quantitative | kg in a m3 mixture | Input Variable\n",
    "Water (component 4) | quantitative | kg in a m3 mixture | Input Variable\n",
    "Superplasticizer (component 5) | quantitative | kg in a m3 mixture | Input Variable\n",
    "Coarse Aggregate (component 6) | quantitative | kg in a m3 mixture | Input Variable\n",
    "Fine Aggregate (component 7) | quantitative | kg in a m3 mixture | Input Variable\n",
    "Age | quantitative | Day (1~365) | Input Variable\n",
    "Concrete compressive strength | quantitative | MPa | Output Variable\n",
    "\n",
    "### WORKFLOW :\n",
    "- Load Data\n",
    "- Check Missing Values ( If Exist ; Fill each record with mean of its feature )\n",
    "- Standardized the Input Variables. **Hint**: Centeralized the data\n",
    "- Split into 50% Training(Samples,Labels) , 30% Test(Samples,Labels) and 20% Validation Data(Samples,Labels).\n",
    "- Model : input Layer (No. of features ), 3 hidden layers including 10,8,6 unit & Output Layer with activation function relu/tanh (check by experiment).\n",
    "- Compilation Step (Note : Its a Regression problem , select loss , metrics according to it)\n",
    "- Train the Model with Epochs (100) and validate it\n",
    "- If the model gets overfit tune your model by changing the units , No. of layers , activation function , epochs , add dropout layer or add Regularizer according to the need .\n",
    "- Evaluation Step\n",
    "- Prediction\n"
   ]
  },
  {
   "cell_type": "markdown",
   "metadata": {},
   "source": [
    "# Load Data:\n",
    "[Click Here to Download DataSet](https://github.com/ramsha275/ML_Datasets/blob/main/compresive_strength_concrete.csv)"
   ]
  },
  {
   "cell_type": "code",
   "execution_count": 78,
   "metadata": {},
   "outputs": [],
   "source": [
    "import numpy as np\n",
    "import pandas as pd\n",
    "from tensorflow.keras import models, layers"
   ]
  },
  {
   "cell_type": "code",
   "execution_count": 79,
   "metadata": {},
   "outputs": [
    {
     "output_type": "execute_result",
     "data": {
      "text/plain": [
       "   Cement (component 1)(kg in a m^3 mixture)  ...  Concrete compressive strength(MPa, megapascals) \n",
       "0                                      540.0  ...                                             79.99\n",
       "1                                      540.0  ...                                             61.89\n",
       "2                                      332.5  ...                                             40.27\n",
       "3                                      332.5  ...                                             41.05\n",
       "4                                      198.6  ...                                             44.30\n",
       "\n",
       "[5 rows x 9 columns]"
      ],
      "text/html": "<div>\n<style scoped>\n    .dataframe tbody tr th:only-of-type {\n        vertical-align: middle;\n    }\n\n    .dataframe tbody tr th {\n        vertical-align: top;\n    }\n\n    .dataframe thead th {\n        text-align: right;\n    }\n</style>\n<table border=\"1\" class=\"dataframe\">\n  <thead>\n    <tr style=\"text-align: right;\">\n      <th></th>\n      <th>Cement (component 1)(kg in a m^3 mixture)</th>\n      <th>Blast Furnace Slag (component 2)(kg in a m^3 mixture)</th>\n      <th>Fly Ash (component 3)(kg in a m^3 mixture)</th>\n      <th>Water  (component 4)(kg in a m^3 mixture)</th>\n      <th>Superplasticizer (component 5)(kg in a m^3 mixture)</th>\n      <th>Coarse Aggregate  (component 6)(kg in a m^3 mixture)</th>\n      <th>Fine Aggregate (component 7)(kg in a m^3 mixture)</th>\n      <th>Age (day)</th>\n      <th>Concrete compressive strength(MPa, megapascals)</th>\n    </tr>\n  </thead>\n  <tbody>\n    <tr>\n      <th>0</th>\n      <td>540.0</td>\n      <td>0.0</td>\n      <td>0.0</td>\n      <td>162.0</td>\n      <td>2.5</td>\n      <td>1040.0</td>\n      <td>676.0</td>\n      <td>28</td>\n      <td>79.99</td>\n    </tr>\n    <tr>\n      <th>1</th>\n      <td>540.0</td>\n      <td>0.0</td>\n      <td>0.0</td>\n      <td>162.0</td>\n      <td>2.5</td>\n      <td>1055.0</td>\n      <td>676.0</td>\n      <td>28</td>\n      <td>61.89</td>\n    </tr>\n    <tr>\n      <th>2</th>\n      <td>332.5</td>\n      <td>142.5</td>\n      <td>0.0</td>\n      <td>228.0</td>\n      <td>0.0</td>\n      <td>932.0</td>\n      <td>594.0</td>\n      <td>270</td>\n      <td>40.27</td>\n    </tr>\n    <tr>\n      <th>3</th>\n      <td>332.5</td>\n      <td>142.5</td>\n      <td>0.0</td>\n      <td>228.0</td>\n      <td>0.0</td>\n      <td>932.0</td>\n      <td>594.0</td>\n      <td>365</td>\n      <td>41.05</td>\n    </tr>\n    <tr>\n      <th>4</th>\n      <td>198.6</td>\n      <td>132.4</td>\n      <td>0.0</td>\n      <td>192.0</td>\n      <td>0.0</td>\n      <td>978.4</td>\n      <td>825.5</td>\n      <td>360</td>\n      <td>44.30</td>\n    </tr>\n  </tbody>\n</table>\n</div>"
     },
     "metadata": {},
     "execution_count": 79
    }
   ],
   "source": [
    "dataset = pd.read_csv(\"compresive_strength_concrete.csv\")\n",
    "dataset.head()"
   ]
  },
  {
   "cell_type": "code",
   "execution_count": 80,
   "metadata": {},
   "outputs": [
    {
     "output_type": "execute_result",
     "data": {
      "text/plain": [
       "Cement (component 1)(kg in a m^3 mixture)                0\n",
       "Blast Furnace Slag (component 2)(kg in a m^3 mixture)    0\n",
       "Fly Ash (component 3)(kg in a m^3 mixture)               0\n",
       "Water  (component 4)(kg in a m^3 mixture)                0\n",
       "Superplasticizer (component 5)(kg in a m^3 mixture)      0\n",
       "Coarse Aggregate  (component 6)(kg in a m^3 mixture)     0\n",
       "Fine Aggregate (component 7)(kg in a m^3 mixture)        0\n",
       "Age (day)                                                0\n",
       "Concrete compressive strength(MPa, megapascals)          0\n",
       "dtype: int64"
      ]
     },
     "metadata": {},
     "execution_count": 80
    }
   ],
   "source": [
    "dataset.isnull().sum()"
   ]
  },
  {
   "cell_type": "code",
   "execution_count": 81,
   "metadata": {},
   "outputs": [
    {
     "output_type": "execute_result",
     "data": {
      "text/plain": [
       "Cement (component 1)(kg in a m^3 mixture)                float32\n",
       "Blast Furnace Slag (component 2)(kg in a m^3 mixture)    float32\n",
       "Fly Ash (component 3)(kg in a m^3 mixture)               float32\n",
       "Water  (component 4)(kg in a m^3 mixture)                float32\n",
       "Superplasticizer (component 5)(kg in a m^3 mixture)      float32\n",
       "Coarse Aggregate  (component 6)(kg in a m^3 mixture)     float32\n",
       "Fine Aggregate (component 7)(kg in a m^3 mixture)        float32\n",
       "Age (day)                                                float32\n",
       "Concrete compressive strength(MPa, megapascals)          float32\n",
       "dtype: object"
      ]
     },
     "metadata": {},
     "execution_count": 81
    }
   ],
   "source": [
    "dataset = dataset.astype(\"float32\")\n",
    "\n",
    "dataset.dtypes"
   ]
  },
  {
   "cell_type": "code",
   "execution_count": 82,
   "metadata": {},
   "outputs": [],
   "source": [
    "train_size = int(dataset.shape[0] * 0.5)\n",
    "test_size = int(dataset.shape[0] * 0.3) + train_size\n",
    "\n",
    "y = np.asarray(dataset[[\"Concrete compressive strength(MPa, megapascals) \"]])\n",
    "x = np.asarray(dataset.drop([\"Concrete compressive strength(MPa, megapascals) \"], axis=1))\n",
    "\n",
    "y_train, y_test, y_validation = y[:train_size], y[train_size:test_size], y[test_size:]\n",
    "x_train, x_test, x_validation = x[:train_size], x[train_size:test_size], x[test_size:]\n",
    "input_shape = x_train[0].shape"
   ]
  },
  {
   "cell_type": "code",
   "execution_count": 83,
   "metadata": {},
   "outputs": [],
   "source": [
    "mean = x_train.mean()\n",
    "x_train -= mean\n",
    "std  = x_train.std()\n",
    "x_train /= std"
   ]
  },
  {
   "cell_type": "code",
   "execution_count": 84,
   "metadata": {},
   "outputs": [],
   "source": [
    "x_test -= mean\n",
    "x_test /= std\n",
    "x_validation -= mean\n",
    "x_validation /= std\n"
   ]
  },
  {
   "cell_type": "code",
   "execution_count": 85,
   "metadata": {},
   "outputs": [
    {
     "output_type": "stream",
     "name": "stdout",
     "text": [
      "[[79.99]\n [61.89]\n [40.27]\n [41.05]\n [44.3 ]\n [47.03]\n [43.7 ]\n [36.45]\n [45.85]\n [39.29]\n [38.07]\n [28.02]\n [43.01]\n [42.33]\n [47.81]\n [52.91]\n [39.36]\n [56.14]\n [40.56]\n [42.62]\n [41.84]\n [28.24]\n [ 8.06]\n [44.21]\n [52.52]\n [53.3 ]\n [41.15]\n [52.12]\n [37.43]\n [38.6 ]\n [55.26]\n [52.91]\n [41.72]\n [42.13]\n [53.69]\n [38.41]\n [30.08]\n [37.72]\n [42.23]\n [36.25]\n [50.46]\n [43.7 ]\n [39.  ]\n [53.1 ]\n [41.54]\n [35.08]\n [15.05]\n [40.76]\n [26.26]\n [32.82]\n [39.78]\n [46.93]\n [33.12]\n [49.19]\n [14.59]\n [14.64]\n [41.93]\n [ 9.13]\n [50.95]\n [33.02]\n [54.38]\n [51.73]\n [ 9.87]\n [50.66]\n [48.7 ]\n [55.06]\n [44.7 ]\n [30.28]\n [40.86]\n [71.99]\n [34.4 ]\n [28.8 ]\n [33.4 ]\n [36.3 ]\n [29.  ]\n [37.8 ]\n [40.2 ]\n [33.4 ]\n [28.1 ]\n [41.3 ]\n [33.4 ]\n [25.2 ]\n [41.1 ]\n [35.3 ]\n [28.3 ]\n [28.6 ]\n [35.3 ]\n [24.4 ]\n [35.3 ]\n [39.3 ]\n [40.6 ]\n [35.3 ]\n [24.1 ]\n [46.2 ]\n [42.8 ]\n [49.2 ]\n [46.8 ]\n [45.7 ]\n [55.6 ]\n [54.9 ]\n [49.2 ]\n [34.9 ]\n [46.9 ]\n [49.2 ]\n [33.4 ]\n [54.1 ]\n [55.9 ]\n [49.8 ]\n [47.1 ]\n [55.9 ]\n [38.  ]\n [55.9 ]\n [56.1 ]\n [59.09]\n [22.9 ]\n [35.1 ]\n [61.09]\n [59.8 ]\n [60.29]\n [61.8 ]\n [56.7 ]\n [68.3 ]\n [66.9 ]\n [60.29]\n [50.7 ]\n [56.4 ]\n [60.29]\n [55.5 ]\n [68.5 ]\n [71.3 ]\n [74.7 ]\n [52.2 ]\n [71.3 ]\n [67.7 ]\n [71.3 ]\n [66.  ]\n [74.5 ]\n [71.3 ]\n [49.9 ]\n [63.4 ]\n [64.9 ]\n [64.3 ]\n [64.9 ]\n [60.2 ]\n [72.3 ]\n [69.3 ]\n [64.3 ]\n [55.2 ]\n [58.8 ]\n [64.3 ]\n [66.1 ]\n [73.7 ]\n [77.3 ]\n [80.2 ]\n [54.9 ]\n [77.3 ]\n [72.99]\n [77.3 ]\n [71.7 ]\n [79.4 ]\n [77.3 ]\n [59.89]\n [64.9 ]\n [66.6 ]\n [65.2 ]\n [66.7 ]\n [62.5 ]\n [74.19]\n [70.7 ]\n [65.2 ]\n [57.6 ]\n [59.2 ]\n [65.2 ]\n [68.1 ]\n [75.5 ]\n [79.3 ]\n [56.5 ]\n [79.3 ]\n [76.8 ]\n [79.3 ]\n [73.3 ]\n [82.6 ]\n [79.3 ]\n [67.8 ]\n [11.58]\n [24.45]\n [24.89]\n [29.45]\n [40.71]\n [10.38]\n [22.14]\n [22.84]\n [27.66]\n [34.56]\n [12.45]\n [24.99]\n [25.72]\n [33.96]\n [37.34]\n [15.04]\n [21.06]\n [26.4 ]\n [35.34]\n [40.57]\n [12.47]\n [20.92]\n [24.9 ]\n [34.2 ]\n [39.61]\n [10.03]\n [20.08]\n [24.48]\n [31.54]\n [35.34]\n [ 9.45]\n [22.72]\n [28.47]\n [38.56]\n [40.39]\n [10.76]\n [25.48]\n [21.54]\n [28.63]\n [33.54]\n [ 7.75]\n [17.82]\n [24.24]\n [32.85]\n [39.23]\n [18.  ]\n [30.39]\n [45.71]\n [50.77]\n [53.9 ]\n [13.18]\n [17.84]\n [40.23]\n [47.13]\n [49.97]\n [13.36]\n [22.32]\n [24.54]\n [31.35]\n [40.86]\n [19.93]\n [25.69]\n [30.23]\n [39.59]\n [44.3 ]\n [13.82]\n [24.92]\n [29.22]\n [38.33]\n [42.35]\n [13.54]\n [26.31]\n [31.64]\n [42.55]\n [42.92]\n [13.33]\n [25.37]\n [37.4 ]\n [44.4 ]\n [47.74]\n [19.52]\n [31.35]\n [38.5 ]\n [45.08]\n [47.82]\n [15.44]\n [26.77]\n [33.73]\n [42.7 ]\n [45.84]\n [17.22]\n [29.93]\n [29.65]\n [36.97]\n [43.58]\n [13.12]\n [24.43]\n [32.66]\n [36.64]\n [44.21]\n [13.62]\n [21.6 ]\n [27.77]\n [35.57]\n [45.37]\n [ 7.32]\n [21.5 ]\n [31.27]\n [43.5 ]\n [48.67]\n [ 7.4 ]\n [23.51]\n [31.12]\n [39.15]\n [48.15]\n [22.5 ]\n [34.67]\n [34.74]\n [45.08]\n [48.97]\n [23.14]\n [41.89]\n [48.28]\n [51.04]\n [55.64]\n [22.95]\n [35.23]\n [39.94]\n [48.72]\n [52.04]\n [21.02]\n [33.36]\n [33.94]\n [44.14]\n [45.37]\n [15.36]\n [28.68]\n [30.85]\n [42.03]\n [51.06]\n [21.78]\n [42.29]\n [50.6 ]\n [55.83]\n [60.95]\n [23.52]\n [42.22]\n [52.5 ]\n [60.32]\n [66.42]\n [23.8 ]\n [38.77]\n [51.33]\n [56.85]\n [58.61]\n [21.91]\n [36.99]\n [47.4 ]\n [51.96]\n [56.74]\n [17.57]\n [33.73]\n [40.15]\n [46.64]\n [50.08]\n [17.37]\n [33.7 ]\n [45.94]\n [51.43]\n [59.3 ]\n [30.45]\n [47.71]\n [63.14]\n [66.82]\n [66.95]\n [27.42]\n [35.96]\n [55.51]\n [61.99]\n [63.53]\n [18.02]\n [38.6 ]\n [52.2 ]\n [53.96]\n [56.63]\n [15.34]\n [26.05]\n [30.22]\n [37.27]\n [46.23]\n [16.28]\n [25.62]\n [31.97]\n [36.3 ]\n [43.06]\n [67.57]\n [57.23]\n [81.75]\n [64.02]\n [78.8 ]\n [41.37]\n [60.28]\n [56.83]\n [51.02]\n [55.55]\n [44.13]\n [39.38]\n [55.65]\n [47.28]\n [44.33]\n [52.3 ]\n [49.25]\n [41.37]\n [29.16]\n [39.4 ]\n [39.3 ]\n [67.87]\n [58.52]\n [53.58]\n [59.  ]\n [76.24]\n [69.84]\n [14.4 ]\n [19.42]\n [20.73]\n [14.94]\n [21.29]\n [23.08]\n [15.52]\n [15.82]\n [12.55]\n [ 8.49]\n [15.61]\n [12.18]\n [11.98]\n [16.88]\n [33.09]\n [34.24]\n [31.81]\n [29.75]\n [33.01]\n [32.9 ]\n [29.55]\n [19.42]\n [24.66]\n [29.59]\n [24.28]\n [20.73]\n [26.2 ]\n [46.39]\n [39.16]\n [41.2 ]\n [33.69]\n [38.2 ]\n [41.41]\n [37.81]\n [24.85]\n [27.22]\n [44.64]\n [37.27]\n [33.27]\n [36.56]\n [53.72]\n [48.59]\n [51.72]\n [35.85]\n [53.77]\n [53.46]\n [48.99]\n [31.72]\n [39.64]\n [51.26]\n [43.39]\n [39.27]\n [37.96]\n [55.02]\n [49.99]\n [53.66]\n [37.68]\n [56.06]\n [56.81]\n [50.94]\n [33.56]\n [41.16]\n [52.96]\n [44.28]\n [40.15]\n [57.03]\n [44.42]\n [51.02]\n [53.39]\n [35.36]\n [25.02]\n [23.35]\n [52.01]\n [38.02]\n [39.3 ]\n [61.07]\n [56.14]\n [55.25]\n [54.77]\n [50.24]\n [46.68]\n [46.68]\n [22.75]\n [25.51]\n [34.77]\n [36.84]\n [45.9 ]\n [41.67]\n [56.34]\n [47.97]\n [61.46]\n [44.03]\n [55.45]\n [55.55]\n [57.92]\n [25.61]\n [33.49]\n [59.59]\n [29.55]\n [37.92]\n [61.86]\n [62.05]\n [32.01]\n [72.1 ]\n [39.  ]\n [65.7 ]\n [32.11]\n [40.29]\n [74.36]]\n[[21.97]\n [ 9.85]\n [15.07]\n [23.25]\n [43.73]\n [13.4 ]\n [24.13]\n [44.52]\n [62.94]\n [59.49]\n [25.12]\n [23.64]\n [35.75]\n [38.61]\n [68.75]\n [66.78]\n [23.85]\n [32.07]\n [11.65]\n [19.2 ]\n [48.85]\n [39.6 ]\n [43.94]\n [34.57]\n [54.32]\n [24.4 ]\n [15.62]\n [21.86]\n [10.22]\n [14.6 ]\n [18.75]\n [31.97]\n [23.4 ]\n [25.57]\n [41.68]\n [27.74]\n [ 8.2 ]\n [ 9.62]\n [25.42]\n [15.69]\n [27.94]\n [32.63]\n [17.24]\n [19.77]\n [39.44]\n [25.75]\n [33.08]\n [24.07]\n [21.82]\n [21.07]\n [14.84]\n [32.05]\n [11.96]\n [25.45]\n [22.49]\n [25.22]\n [39.7 ]\n [13.09]\n [38.7 ]\n [ 7.51]\n [17.58]\n [21.18]\n [18.2 ]\n [17.2 ]\n [22.63]\n [21.86]\n [12.37]\n [25.73]\n [37.81]\n [21.92]\n [33.04]\n [14.54]\n [26.91]\n [ 8.  ]\n [31.9 ]\n [10.34]\n [19.77]\n [37.44]\n [11.48]\n [24.44]\n [17.6 ]\n [10.73]\n [31.38]\n [13.22]\n [20.97]\n [27.04]\n [32.04]\n [35.17]\n [36.45]\n [38.89]\n [ 6.47]\n [12.84]\n [18.42]\n [21.95]\n [24.1 ]\n [25.08]\n [21.26]\n [25.97]\n [11.36]\n [31.25]\n [32.33]\n [33.7 ]\n [ 9.31]\n [26.94]\n [27.63]\n [29.79]\n [34.49]\n [36.15]\n [12.54]\n [27.53]\n [32.92]\n [ 9.99]\n [ 7.84]\n [12.25]\n [11.17]\n [17.34]\n [17.54]\n [30.57]\n [14.2 ]\n [24.5 ]\n [15.58]\n [26.85]\n [26.06]\n [38.21]\n [43.7 ]\n [30.14]\n [12.73]\n [20.87]\n [20.28]\n [34.29]\n [19.54]\n [47.71]\n [43.38]\n [29.89]\n [ 6.9 ]\n [33.19]\n [ 4.9 ]\n [ 4.57]\n [25.46]\n [24.29]\n [33.95]\n [11.41]\n [20.59]\n [25.89]\n [29.23]\n [31.02]\n [10.39]\n [33.66]\n [27.87]\n [19.35]\n [11.39]\n [12.79]\n [39.32]\n [ 4.78]\n [16.11]\n [43.38]\n [20.42]\n [ 6.94]\n [15.03]\n [13.57]\n [32.53]\n [15.75]\n [ 7.68]\n [38.8 ]\n [33.  ]\n [17.28]\n [24.28]\n [24.05]\n [36.59]\n [50.73]\n [13.66]\n [14.14]\n [47.78]\n [ 2.33]\n [16.89]\n [23.52]\n [ 6.81]\n [39.7 ]\n [17.96]\n [32.88]\n [22.35]\n [10.79]\n [ 7.72]\n [41.68]\n [ 9.56]\n [ 6.88]\n [50.53]\n [17.17]\n [30.44]\n [ 9.73]\n [ 3.32]\n [26.32]\n [43.25]\n [ 6.28]\n [32.1 ]\n [36.96]\n [54.6 ]\n [21.48]\n [ 9.69]\n [ 8.37]\n [39.66]\n [10.09]\n [ 4.83]\n [10.35]\n [43.57]\n [51.86]\n [11.85]\n [17.24]\n [27.83]\n [35.76]\n [38.7 ]\n [14.31]\n [17.44]\n [31.74]\n [37.91]\n [39.38]\n [15.87]\n [ 9.01]\n [33.61]\n [40.66]\n [40.86]\n [12.05]\n [17.54]\n [18.91]\n [25.18]\n [30.96]\n [43.89]\n [54.28]\n [36.94]\n [14.5 ]\n [22.44]\n [12.64]\n [26.06]\n [33.21]\n [36.94]\n [44.09]\n [52.61]\n [59.76]\n [67.31]\n [69.66]\n [71.62]\n [74.17]\n [18.13]\n [22.53]\n [27.34]\n [29.98]\n [31.35]\n [32.72]\n [ 6.27]\n [14.7 ]\n [23.22]\n [27.92]\n [31.35]\n [39.  ]\n [41.24]\n [14.99]\n [13.52]\n [24.  ]\n [37.42]\n [11.47]\n [22.44]\n [21.16]\n [31.84]\n [14.8 ]\n [25.18]\n [17.54]\n [14.2 ]\n [21.65]\n [29.39]\n [13.52]\n [16.26]\n [31.45]\n [37.23]\n [18.13]\n [32.72]\n [39.49]\n [41.05]\n [42.13]\n [18.13]\n [26.74]\n [61.92]\n [47.22]\n [51.04]\n [55.16]\n [41.64]\n [13.71]\n [19.69]\n [31.65]\n [19.11]\n [39.58]\n [48.79]\n [24.  ]\n [37.42]\n [11.47]\n [19.69]\n [14.99]\n [27.92]\n [34.68]\n [37.33]\n [38.11]\n [33.8 ]\n [42.42]\n [48.4 ]\n [55.94]\n [58.78]\n [67.11]\n [20.77]\n [25.18]\n [29.59]]\n[[21.75]\n [39.09]\n [24.39]\n [50.51]\n [74.99]\n [37.17]\n [33.76]\n [16.5 ]\n [19.99]\n [36.35]\n [33.69]\n [15.42]\n [33.42]\n [39.05]\n [27.68]\n [26.86]\n [45.3 ]\n [30.12]\n [15.57]\n [44.61]\n [53.52]\n [57.21]\n [65.91]\n [52.82]\n [33.4 ]\n [18.03]\n [37.36]\n [32.84]\n [42.64]\n [40.06]\n [41.94]\n [61.23]\n [40.87]\n [33.3 ]\n [52.42]\n [15.09]\n [38.46]\n [37.26]\n [35.23]\n [42.13]\n [31.87]\n [41.54]\n [39.45]\n [37.91]\n [44.28]\n [31.18]\n [23.69]\n [32.76]\n [32.4 ]\n [28.63]\n [36.8 ]\n [18.28]\n [33.06]\n [31.42]\n [31.03]\n [44.39]\n [12.18]\n [25.56]\n [36.44]\n [32.96]\n [23.84]\n [26.23]\n [17.95]\n [40.68]\n [19.01]\n [33.72]\n [ 8.54]\n [13.46]\n [32.24]\n [23.52]\n [29.72]\n [49.77]\n [52.44]\n [40.93]\n [44.86]\n [13.2 ]\n [37.43]\n [29.87]\n [56.61]\n [12.46]\n [23.79]\n [13.29]\n [39.42]\n [46.23]\n [44.52]\n [23.74]\n [26.14]\n [15.52]\n [43.57]\n [35.86]\n [41.05]\n [28.99]\n [46.24]\n [26.92]\n [10.54]\n [25.1 ]\n [29.07]\n [ 9.74]\n [33.8 ]\n [39.84]\n [26.97]\n [27.23]\n [30.65]\n [33.05]\n [24.58]\n [21.91]\n [30.88]\n [15.34]\n [24.34]\n [23.89]\n [22.93]\n [29.41]\n [28.63]\n [36.8 ]\n [18.29]\n [32.72]\n [31.42]\n [28.94]\n [40.93]\n [12.18]\n [25.56]\n [36.44]\n [32.96]\n [23.84]\n [26.23]\n [17.96]\n [38.63]\n [19.01]\n [33.72]\n [ 8.54]\n [13.46]\n [32.25]\n [23.52]\n [29.73]\n [49.77]\n [52.45]\n [40.93]\n [44.87]\n [13.2 ]\n [37.43]\n [29.87]\n [56.62]\n [12.46]\n [23.79]\n [13.29]\n [39.42]\n [46.23]\n [44.52]\n [23.74]\n [26.15]\n [15.53]\n [43.58]\n [35.87]\n [41.05]\n [28.99]\n [46.25]\n [26.92]\n [10.54]\n [25.1 ]\n [29.07]\n [ 9.74]\n [33.8 ]\n [37.17]\n [33.76]\n [16.5 ]\n [19.99]\n [36.35]\n [38.22]\n [15.42]\n [33.42]\n [39.06]\n [27.68]\n [26.86]\n [45.3 ]\n [30.12]\n [15.57]\n [44.61]\n [53.52]\n [57.22]\n [65.91]\n [52.83]\n [33.4 ]\n [18.03]\n [37.36]\n [35.31]\n [42.64]\n [40.06]\n [43.8 ]\n [61.24]\n [40.87]\n [33.31]\n [52.43]\n [15.09]\n [38.46]\n [37.27]\n [35.23]\n [42.14]\n [31.88]\n [41.54]\n [39.46]\n [37.92]\n [44.28]\n [31.18]\n [23.7 ]\n [32.77]\n [32.4 ]]\n"
     ]
    }
   ],
   "source": [
    "print(y_train)\n",
    "print(y_test)\n",
    "print(y_validation)"
   ]
  },
  {
   "cell_type": "code",
   "execution_count": 93,
   "metadata": {},
   "outputs": [],
   "source": [
    "def build_model():\n",
    "    model = models.Sequential()\n",
    "    model.add(layers.Dense(18, input_shape=input_shape, activation=\"relu\"))\n",
    "    model.add(layers.Dense(10, activation=\"relu\"))\n",
    "    model.add(layers.Dense(8, activation=\"relu\"))\n",
    "    model.add(layers.Dense(3, activation=\"relu\"))\n",
    "    model.add(layers.Dense(1))\n",
    "    \n",
    "    model.compile(metrics=[\"mae\"], loss=\"mse\", optimizer=\"rmsprop\")\n",
    "    \n",
    "    return model"
   ]
  },
  {
   "cell_type": "code",
   "execution_count": 94,
   "metadata": {},
   "outputs": [
    {
     "output_type": "stream",
     "name": "stdout",
     "text": [
      "Epoch 1/100\n",
      "52/52 [==============================] - 2s 12ms/step - loss: 2048.7480 - mae: 41.8155 - val_loss: 1049.5582 - val_mae: 29.9451\n",
      "Epoch 2/100\n",
      "52/52 [==============================] - 0s 8ms/step - loss: 1830.5183 - mae: 38.8428 - val_loss: 733.7169 - val_mae: 24.0972\n",
      "Epoch 3/100\n",
      "52/52 [==============================] - 0s 8ms/step - loss: 1253.5629 - mae: 31.2253 - val_loss: 341.1043 - val_mae: 15.4320\n",
      "Epoch 4/100\n",
      "52/52 [==============================] - 1s 10ms/step - loss: 681.1656 - mae: 21.2415 - val_loss: 153.5116 - val_mae: 9.6421\n",
      "Epoch 5/100\n",
      "52/52 [==============================] - 0s 9ms/step - loss: 320.9812 - mae: 14.5849 - val_loss: 210.1980 - val_mae: 11.4246\n",
      "Epoch 6/100\n",
      "52/52 [==============================] - 0s 7ms/step - loss: 283.2883 - mae: 13.6324 - val_loss: 209.8316 - val_mae: 11.4576\n",
      "Epoch 7/100\n",
      "52/52 [==============================] - 0s 9ms/step - loss: 310.4921 - mae: 14.5619 - val_loss: 172.6571 - val_mae: 10.1373\n",
      "Epoch 8/100\n",
      "52/52 [==============================] - 0s 8ms/step - loss: 290.9690 - mae: 14.0102 - val_loss: 161.6779 - val_mae: 9.7886\n",
      "Epoch 9/100\n",
      "52/52 [==============================] - 0s 7ms/step - loss: 288.9904 - mae: 13.7838 - val_loss: 169.9907 - val_mae: 10.1275\n",
      "Epoch 10/100\n",
      "52/52 [==============================] - 0s 7ms/step - loss: 269.3532 - mae: 13.2916 - val_loss: 158.4755 - val_mae: 9.7340\n",
      "Epoch 11/100\n",
      "52/52 [==============================] - 0s 7ms/step - loss: 268.4773 - mae: 13.3625 - val_loss: 163.9629 - val_mae: 10.0068\n",
      "Epoch 12/100\n",
      "52/52 [==============================] - 0s 8ms/step - loss: 270.5137 - mae: 13.3453 - val_loss: 153.3582 - val_mae: 9.6606\n",
      "Epoch 13/100\n",
      "52/52 [==============================] - 1s 11ms/step - loss: 251.0368 - mae: 13.1124 - val_loss: 150.8472 - val_mae: 9.6312\n",
      "Epoch 14/100\n",
      "52/52 [==============================] - 1s 11ms/step - loss: 248.7086 - mae: 12.8789 - val_loss: 143.1714 - val_mae: 9.4020\n",
      "Epoch 15/100\n",
      "52/52 [==============================] - 1s 10ms/step - loss: 235.7831 - mae: 12.5172 - val_loss: 126.5284 - val_mae: 8.7976\n",
      "Epoch 16/100\n",
      "52/52 [==============================] - 0s 7ms/step - loss: 229.4562 - mae: 12.5755 - val_loss: 116.6357 - val_mae: 8.4390\n",
      "Epoch 17/100\n",
      "52/52 [==============================] - 0s 7ms/step - loss: 234.2167 - mae: 12.4098 - val_loss: 124.6496 - val_mae: 8.8564\n",
      "Epoch 18/100\n",
      "52/52 [==============================] - 0s 6ms/step - loss: 222.4302 - mae: 12.1661 - val_loss: 119.8191 - val_mae: 8.7045\n",
      "Epoch 19/100\n",
      "52/52 [==============================] - 0s 6ms/step - loss: 223.7167 - mae: 12.1841 - val_loss: 112.1087 - val_mae: 8.4144\n",
      "Epoch 20/100\n",
      "52/52 [==============================] - 0s 6ms/step - loss: 219.9667 - mae: 12.1110 - val_loss: 101.2661 - val_mae: 7.9446\n",
      "Epoch 21/100\n",
      "52/52 [==============================] - 0s 5ms/step - loss: 214.6380 - mae: 12.0595 - val_loss: 101.0145 - val_mae: 7.9823\n",
      "Epoch 22/100\n",
      "52/52 [==============================] - 0s 5ms/step - loss: 216.0135 - mae: 12.1189 - val_loss: 105.3992 - val_mae: 8.2380\n",
      "Epoch 23/100\n",
      "52/52 [==============================] - 0s 5ms/step - loss: 202.5890 - mae: 11.7106 - val_loss: 98.6756 - val_mae: 7.9600\n",
      "Epoch 24/100\n",
      "52/52 [==============================] - 0s 5ms/step - loss: 194.0626 - mae: 11.2667 - val_loss: 94.1805 - val_mae: 7.7798\n",
      "Epoch 25/100\n",
      "52/52 [==============================] - 0s 5ms/step - loss: 212.5510 - mae: 12.2357 - val_loss: 89.0425 - val_mae: 7.5422\n",
      "Epoch 26/100\n",
      "52/52 [==============================] - 0s 6ms/step - loss: 197.2830 - mae: 11.3390 - val_loss: 86.0201 - val_mae: 7.4141\n",
      "Epoch 27/100\n",
      "52/52 [==============================] - 0s 6ms/step - loss: 203.0369 - mae: 11.7065 - val_loss: 84.0268 - val_mae: 7.3258\n",
      "Epoch 28/100\n",
      "52/52 [==============================] - 0s 6ms/step - loss: 202.5366 - mae: 11.8113 - val_loss: 87.9130 - val_mae: 7.5712\n",
      "Epoch 29/100\n",
      "52/52 [==============================] - 0s 6ms/step - loss: 196.6171 - mae: 11.6868 - val_loss: 92.9291 - val_mae: 7.8347\n",
      "Epoch 30/100\n",
      "52/52 [==============================] - 0s 6ms/step - loss: 204.0498 - mae: 11.7793 - val_loss: 78.4055 - val_mae: 6.9535\n",
      "Epoch 31/100\n",
      "52/52 [==============================] - 0s 6ms/step - loss: 201.6622 - mae: 11.7683 - val_loss: 79.5795 - val_mae: 7.1269\n",
      "Epoch 32/100\n",
      "52/52 [==============================] - 0s 5ms/step - loss: 204.7731 - mae: 11.8048 - val_loss: 77.3028 - val_mae: 6.9505\n",
      "Epoch 33/100\n",
      "52/52 [==============================] - 0s 6ms/step - loss: 184.0326 - mae: 11.1250 - val_loss: 81.2776 - val_mae: 7.2522\n",
      "Epoch 34/100\n",
      "52/52 [==============================] - 0s 6ms/step - loss: 190.5394 - mae: 11.3409 - val_loss: 77.2009 - val_mae: 6.9947\n",
      "Epoch 35/100\n",
      "52/52 [==============================] - 0s 6ms/step - loss: 187.2439 - mae: 11.2927 - val_loss: 79.2989 - val_mae: 7.1508\n",
      "Epoch 36/100\n",
      "52/52 [==============================] - 0s 6ms/step - loss: 179.4224 - mae: 11.1335 - val_loss: 75.6668 - val_mae: 6.8815\n",
      "Epoch 37/100\n",
      "52/52 [==============================] - 0s 5ms/step - loss: 194.0811 - mae: 11.4954 - val_loss: 75.3212 - val_mae: 6.8620\n",
      "Epoch 38/100\n",
      "52/52 [==============================] - 0s 5ms/step - loss: 183.7521 - mae: 11.1631 - val_loss: 75.1119 - val_mae: 6.8720\n",
      "Epoch 39/100\n",
      "52/52 [==============================] - 0s 5ms/step - loss: 195.8242 - mae: 11.3759 - val_loss: 82.5630 - val_mae: 7.3761\n",
      "Epoch 40/100\n",
      "52/52 [==============================] - 0s 6ms/step - loss: 184.4972 - mae: 11.1643 - val_loss: 74.3335 - val_mae: 6.7802\n",
      "Epoch 41/100\n",
      "52/52 [==============================] - 0s 7ms/step - loss: 183.3587 - mae: 11.2933 - val_loss: 77.2570 - val_mae: 7.0811\n",
      "Epoch 42/100\n",
      "52/52 [==============================] - 0s 6ms/step - loss: 185.0564 - mae: 11.2956 - val_loss: 73.2969 - val_mae: 6.7142\n",
      "Epoch 43/100\n",
      "52/52 [==============================] - 0s 6ms/step - loss: 176.5752 - mae: 11.0990 - val_loss: 73.6467 - val_mae: 6.7699\n",
      "Epoch 44/100\n",
      "52/52 [==============================] - 1s 10ms/step - loss: 193.4690 - mae: 11.5868 - val_loss: 77.2402 - val_mae: 7.1040\n",
      "Epoch 45/100\n",
      "52/52 [==============================] - 0s 6ms/step - loss: 178.2227 - mae: 11.1111 - val_loss: 72.7345 - val_mae: 6.7401\n",
      "Epoch 46/100\n",
      "52/52 [==============================] - 0s 5ms/step - loss: 172.0177 - mae: 10.9891 - val_loss: 72.4038 - val_mae: 6.6906\n",
      "Epoch 47/100\n",
      "52/52 [==============================] - 0s 6ms/step - loss: 172.0891 - mae: 10.8664 - val_loss: 76.5019 - val_mae: 7.0782\n",
      "Epoch 48/100\n",
      "52/52 [==============================] - 0s 6ms/step - loss: 179.3455 - mae: 11.0588 - val_loss: 74.0581 - val_mae: 6.9151\n",
      "Epoch 49/100\n",
      "52/52 [==============================] - 0s 6ms/step - loss: 167.6127 - mae: 10.6469 - val_loss: 75.9131 - val_mae: 7.0516\n",
      "Epoch 50/100\n",
      "52/52 [==============================] - 0s 7ms/step - loss: 169.5827 - mae: 10.4176 - val_loss: 72.3148 - val_mae: 6.7157\n",
      "Epoch 51/100\n",
      "52/52 [==============================] - 0s 6ms/step - loss: 177.3105 - mae: 11.0726 - val_loss: 71.5815 - val_mae: 6.6759\n",
      "Epoch 52/100\n",
      "52/52 [==============================] - 0s 7ms/step - loss: 180.2077 - mae: 11.1662 - val_loss: 71.5534 - val_mae: 6.7237\n",
      "Epoch 53/100\n",
      "52/52 [==============================] - 0s 9ms/step - loss: 171.9757 - mae: 10.9127 - val_loss: 73.8067 - val_mae: 6.9444\n",
      "Epoch 54/100\n",
      "52/52 [==============================] - 0s 8ms/step - loss: 181.0675 - mae: 11.0336 - val_loss: 71.6693 - val_mae: 6.7712\n",
      "Epoch 55/100\n",
      "52/52 [==============================] - 0s 9ms/step - loss: 176.2375 - mae: 11.0347 - val_loss: 73.9823 - val_mae: 6.9757\n",
      "Epoch 56/100\n",
      "52/52 [==============================] - 0s 6ms/step - loss: 178.9681 - mae: 10.9119 - val_loss: 71.8384 - val_mae: 6.7190\n",
      "Epoch 57/100\n",
      "52/52 [==============================] - 0s 9ms/step - loss: 175.0789 - mae: 10.9535 - val_loss: 75.5229 - val_mae: 7.0832\n",
      "Epoch 58/100\n",
      "52/52 [==============================] - 1s 12ms/step - loss: 171.4798 - mae: 10.7246 - val_loss: 70.2871 - val_mae: 6.7074\n",
      "Epoch 59/100\n",
      "52/52 [==============================] - 0s 9ms/step - loss: 178.0658 - mae: 10.9127 - val_loss: 72.0611 - val_mae: 6.8688\n",
      "Epoch 60/100\n",
      "52/52 [==============================] - 0s 8ms/step - loss: 169.9197 - mae: 10.7965 - val_loss: 70.0862 - val_mae: 6.7093\n",
      "Epoch 61/100\n",
      "52/52 [==============================] - 0s 6ms/step - loss: 147.6591 - mae: 9.9655 - val_loss: 70.0687 - val_mae: 6.7305\n",
      "Epoch 62/100\n",
      "52/52 [==============================] - 0s 8ms/step - loss: 165.5643 - mae: 10.6807 - val_loss: 70.5438 - val_mae: 6.7784\n",
      "Epoch 63/100\n",
      "52/52 [==============================] - 0s 7ms/step - loss: 167.7716 - mae: 10.6696 - val_loss: 69.7550 - val_mae: 6.6424\n",
      "Epoch 64/100\n",
      "52/52 [==============================] - 0s 8ms/step - loss: 176.6438 - mae: 10.7945 - val_loss: 69.4416 - val_mae: 6.6980\n",
      "Epoch 65/100\n",
      "52/52 [==============================] - 0s 7ms/step - loss: 164.5878 - mae: 10.7000 - val_loss: 70.4152 - val_mae: 6.7979\n",
      "Epoch 66/100\n",
      "52/52 [==============================] - 1s 10ms/step - loss: 153.9754 - mae: 10.0780 - val_loss: 69.3846 - val_mae: 6.7219\n",
      "Epoch 67/100\n",
      "52/52 [==============================] - 1s 10ms/step - loss: 164.5491 - mae: 10.4678 - val_loss: 69.0395 - val_mae: 6.6457\n",
      "Epoch 68/100\n",
      "52/52 [==============================] - 1s 12ms/step - loss: 166.5812 - mae: 10.6703 - val_loss: 68.5592 - val_mae: 6.6593\n",
      "Epoch 69/100\n",
      "52/52 [==============================] - 0s 9ms/step - loss: 155.1001 - mae: 10.1728 - val_loss: 68.8788 - val_mae: 6.6458\n",
      "Epoch 70/100\n",
      "52/52 [==============================] - 0s 8ms/step - loss: 152.2379 - mae: 10.1018 - val_loss: 74.0545 - val_mae: 6.8605\n",
      "Epoch 71/100\n",
      "52/52 [==============================] - 1s 10ms/step - loss: 167.6908 - mae: 10.6458 - val_loss: 69.4736 - val_mae: 6.6634\n",
      "Epoch 72/100\n",
      "52/52 [==============================] - 0s 9ms/step - loss: 159.0947 - mae: 10.3352 - val_loss: 68.7597 - val_mae: 6.7205\n",
      "Epoch 73/100\n",
      "52/52 [==============================] - 0s 8ms/step - loss: 157.8296 - mae: 10.1885 - val_loss: 72.8605 - val_mae: 6.8159\n",
      "Epoch 74/100\n",
      "52/52 [==============================] - 1s 11ms/step - loss: 156.5876 - mae: 10.1462 - val_loss: 68.3204 - val_mae: 6.6805\n",
      "Epoch 75/100\n",
      "52/52 [==============================] - 0s 6ms/step - loss: 150.1258 - mae: 10.0122 - val_loss: 68.0621 - val_mae: 6.6686\n",
      "Epoch 76/100\n",
      "52/52 [==============================] - 0s 7ms/step - loss: 149.1488 - mae: 10.3254 - val_loss: 68.5997 - val_mae: 6.6642\n",
      "Epoch 77/100\n",
      "52/52 [==============================] - 0s 9ms/step - loss: 165.4986 - mae: 10.7050 - val_loss: 68.0533 - val_mae: 6.6914\n",
      "Epoch 78/100\n",
      "52/52 [==============================] - 1s 13ms/step - loss: 153.6066 - mae: 10.0831 - val_loss: 68.6929 - val_mae: 6.6766\n",
      "Epoch 79/100\n",
      "52/52 [==============================] - 1s 14ms/step - loss: 164.2034 - mae: 10.4820 - val_loss: 67.9142 - val_mae: 6.6910\n",
      "Epoch 80/100\n",
      "52/52 [==============================] - 0s 8ms/step - loss: 142.9603 - mae: 9.6629 - val_loss: 70.1936 - val_mae: 6.7390\n",
      "Epoch 81/100\n",
      "52/52 [==============================] - 0s 5ms/step - loss: 157.4280 - mae: 10.1997 - val_loss: 69.9610 - val_mae: 6.7376\n",
      "Epoch 82/100\n",
      "52/52 [==============================] - 0s 6ms/step - loss: 154.9611 - mae: 10.0655 - val_loss: 69.3680 - val_mae: 6.7190\n",
      "Epoch 83/100\n",
      "52/52 [==============================] - 0s 8ms/step - loss: 160.0347 - mae: 10.2297 - val_loss: 70.2675 - val_mae: 6.7520\n",
      "Epoch 84/100\n",
      "52/52 [==============================] - 0s 8ms/step - loss: 157.5178 - mae: 10.1763 - val_loss: 69.2478 - val_mae: 6.7202\n",
      "Epoch 85/100\n",
      "52/52 [==============================] - 0s 9ms/step - loss: 148.3710 - mae: 9.7934 - val_loss: 71.0184 - val_mae: 6.7867\n",
      "Epoch 86/100\n",
      "52/52 [==============================] - 0s 6ms/step - loss: 154.0925 - mae: 10.0650 - val_loss: 67.8491 - val_mae: 6.6987\n",
      "Epoch 87/100\n",
      "52/52 [==============================] - 0s 7ms/step - loss: 147.8660 - mae: 9.8299 - val_loss: 69.6964 - val_mae: 6.7433\n",
      "Epoch 88/100\n",
      "52/52 [==============================] - 0s 8ms/step - loss: 148.6951 - mae: 9.7523 - val_loss: 70.1599 - val_mae: 6.7589\n",
      "Epoch 89/100\n",
      "52/52 [==============================] - 0s 5ms/step - loss: 151.7094 - mae: 9.8405 - val_loss: 69.4251 - val_mae: 6.7409\n",
      "Epoch 90/100\n",
      "52/52 [==============================] - 0s 9ms/step - loss: 142.2698 - mae: 9.8295 - val_loss: 71.7487 - val_mae: 6.8178\n",
      "Epoch 91/100\n",
      "52/52 [==============================] - 0s 8ms/step - loss: 150.0417 - mae: 10.0816 - val_loss: 68.5712 - val_mae: 6.7185\n",
      "Epoch 92/100\n",
      "52/52 [==============================] - 0s 8ms/step - loss: 141.0155 - mae: 9.5759 - val_loss: 71.6762 - val_mae: 6.8190\n",
      "Epoch 93/100\n",
      "52/52 [==============================] - 1s 10ms/step - loss: 143.0613 - mae: 9.6812 - val_loss: 69.3324 - val_mae: 6.7513\n",
      "Epoch 94/100\n",
      "52/52 [==============================] - 0s 7ms/step - loss: 136.7013 - mae: 9.3547 - val_loss: 70.6686 - val_mae: 6.7896\n",
      "Epoch 95/100\n",
      "52/52 [==============================] - 0s 6ms/step - loss: 147.6935 - mae: 9.7838 - val_loss: 74.6281 - val_mae: 6.9180\n",
      "Epoch 96/100\n",
      "52/52 [==============================] - 0s 7ms/step - loss: 140.9273 - mae: 9.7331 - val_loss: 67.6607 - val_mae: 6.6891\n",
      "Epoch 97/100\n",
      "52/52 [==============================] - 0s 6ms/step - loss: 140.0550 - mae: 9.4151 - val_loss: 67.4685 - val_mae: 6.6846\n",
      "Epoch 98/100\n",
      "52/52 [==============================] - 0s 6ms/step - loss: 143.4320 - mae: 9.4878 - val_loss: 67.1938 - val_mae: 6.6856\n",
      "Epoch 99/100\n",
      "52/52 [==============================] - 0s 6ms/step - loss: 143.6963 - mae: 9.6164 - val_loss: 68.3611 - val_mae: 6.7195\n",
      "Epoch 100/100\n",
      "52/52 [==============================] - 0s 6ms/step - loss: 144.9875 - mae: 9.5200 - val_loss: 73.9234 - val_mae: 6.9043\n"
     ]
    }
   ],
   "source": [
    "model = build_model()\n",
    "\n",
    "history = model.fit(x_train, y_train, validation_data=(x_validation, y_validation), epochs=100, batch_size=10)"
   ]
  },
  {
   "cell_type": "code",
   "execution_count": 95,
   "metadata": {},
   "outputs": [
    {
     "output_type": "display_data",
     "data": {
      "text/plain": "<Figure size 432x288 with 1 Axes>",
      "image/svg+xml": "<?xml version=\"1.0\" encoding=\"utf-8\" standalone=\"no\"?>\n<!DOCTYPE svg PUBLIC \"-//W3C//DTD SVG 1.1//EN\"\n  \"http://www.w3.org/Graphics/SVG/1.1/DTD/svg11.dtd\">\n<!-- Created with matplotlib (https://matplotlib.org/) -->\n<svg height=\"248.518125pt\" version=\"1.1\" viewBox=\"0 0 368.925 248.518125\" width=\"368.925pt\" xmlns=\"http://www.w3.org/2000/svg\" xmlns:xlink=\"http://www.w3.org/1999/xlink\">\n <metadata>\n  <rdf:RDF xmlns:cc=\"http://creativecommons.org/ns#\" xmlns:dc=\"http://purl.org/dc/elements/1.1/\" xmlns:rdf=\"http://www.w3.org/1999/02/22-rdf-syntax-ns#\">\n   <cc:Work>\n    <dc:type rdf:resource=\"http://purl.org/dc/dcmitype/StillImage\"/>\n    <dc:date>2021-04-03T02:56:04.373744</dc:date>\n    <dc:format>image/svg+xml</dc:format>\n    <dc:creator>\n     <cc:Agent>\n      <dc:title>Matplotlib v3.3.4, https://matplotlib.org/</dc:title>\n     </cc:Agent>\n    </dc:creator>\n   </cc:Work>\n  </rdf:RDF>\n </metadata>\n <defs>\n  <style type=\"text/css\">*{stroke-linecap:butt;stroke-linejoin:round;}</style>\n </defs>\n <g id=\"figure_1\">\n  <g id=\"patch_1\">\n   <path d=\"M -0 248.518125 \nL 368.925 248.518125 \nL 368.925 0 \nL -0 0 \nz\n\" style=\"fill:none;\"/>\n  </g>\n  <g id=\"axes_1\">\n   <g id=\"patch_2\">\n    <path d=\"M 26.925 224.64 \nL 361.725 224.64 \nL 361.725 7.2 \nL 26.925 7.2 \nz\n\" style=\"fill:#ffffff;\"/>\n   </g>\n   <g id=\"matplotlib.axis_1\">\n    <g id=\"xtick_1\">\n     <g id=\"line2d_1\">\n      <defs>\n       <path d=\"M 0 0 \nL 0 3.5 \n\" id=\"m8af652327f\" style=\"stroke:#000000;stroke-width:0.8;\"/>\n      </defs>\n      <g>\n       <use style=\"stroke:#000000;stroke-width:0.8;\" x=\"42.143182\" xlink:href=\"#m8af652327f\" y=\"224.64\"/>\n      </g>\n     </g>\n     <g id=\"text_1\">\n      <!-- 0 -->\n      <g transform=\"translate(38.961932 239.238437)scale(0.1 -0.1)\">\n       <defs>\n        <path d=\"M 31.78125 66.40625 \nQ 24.171875 66.40625 20.328125 58.90625 \nQ 16.5 51.421875 16.5 36.375 \nQ 16.5 21.390625 20.328125 13.890625 \nQ 24.171875 6.390625 31.78125 6.390625 \nQ 39.453125 6.390625 43.28125 13.890625 \nQ 47.125 21.390625 47.125 36.375 \nQ 47.125 51.421875 43.28125 58.90625 \nQ 39.453125 66.40625 31.78125 66.40625 \nz\nM 31.78125 74.21875 \nQ 44.046875 74.21875 50.515625 64.515625 \nQ 56.984375 54.828125 56.984375 36.375 \nQ 56.984375 17.96875 50.515625 8.265625 \nQ 44.046875 -1.421875 31.78125 -1.421875 \nQ 19.53125 -1.421875 13.0625 8.265625 \nQ 6.59375 17.96875 6.59375 36.375 \nQ 6.59375 54.828125 13.0625 64.515625 \nQ 19.53125 74.21875 31.78125 74.21875 \nz\n\" id=\"DejaVuSans-48\"/>\n       </defs>\n       <use xlink:href=\"#DejaVuSans-48\"/>\n      </g>\n     </g>\n    </g>\n    <g id=\"xtick_2\">\n     <g id=\"line2d_2\">\n      <g>\n       <use style=\"stroke:#000000;stroke-width:0.8;\" x=\"103.630785\" xlink:href=\"#m8af652327f\" y=\"224.64\"/>\n      </g>\n     </g>\n     <g id=\"text_2\">\n      <!-- 20 -->\n      <g transform=\"translate(97.268285 239.238437)scale(0.1 -0.1)\">\n       <defs>\n        <path d=\"M 19.1875 8.296875 \nL 53.609375 8.296875 \nL 53.609375 0 \nL 7.328125 0 \nL 7.328125 8.296875 \nQ 12.9375 14.109375 22.625 23.890625 \nQ 32.328125 33.6875 34.8125 36.53125 \nQ 39.546875 41.84375 41.421875 45.53125 \nQ 43.3125 49.21875 43.3125 52.78125 \nQ 43.3125 58.59375 39.234375 62.25 \nQ 35.15625 65.921875 28.609375 65.921875 \nQ 23.96875 65.921875 18.8125 64.3125 \nQ 13.671875 62.703125 7.8125 59.421875 \nL 7.8125 69.390625 \nQ 13.765625 71.78125 18.9375 73 \nQ 24.125 74.21875 28.421875 74.21875 \nQ 39.75 74.21875 46.484375 68.546875 \nQ 53.21875 62.890625 53.21875 53.421875 \nQ 53.21875 48.921875 51.53125 44.890625 \nQ 49.859375 40.875 45.40625 35.40625 \nQ 44.1875 33.984375 37.640625 27.21875 \nQ 31.109375 20.453125 19.1875 8.296875 \nz\n\" id=\"DejaVuSans-50\"/>\n       </defs>\n       <use xlink:href=\"#DejaVuSans-50\"/>\n       <use x=\"63.623047\" xlink:href=\"#DejaVuSans-48\"/>\n      </g>\n     </g>\n    </g>\n    <g id=\"xtick_3\">\n     <g id=\"line2d_3\">\n      <g>\n       <use style=\"stroke:#000000;stroke-width:0.8;\" x=\"165.118388\" xlink:href=\"#m8af652327f\" y=\"224.64\"/>\n      </g>\n     </g>\n     <g id=\"text_3\">\n      <!-- 40 -->\n      <g transform=\"translate(158.755888 239.238437)scale(0.1 -0.1)\">\n       <defs>\n        <path d=\"M 37.796875 64.3125 \nL 12.890625 25.390625 \nL 37.796875 25.390625 \nz\nM 35.203125 72.90625 \nL 47.609375 72.90625 \nL 47.609375 25.390625 \nL 58.015625 25.390625 \nL 58.015625 17.1875 \nL 47.609375 17.1875 \nL 47.609375 0 \nL 37.796875 0 \nL 37.796875 17.1875 \nL 4.890625 17.1875 \nL 4.890625 26.703125 \nz\n\" id=\"DejaVuSans-52\"/>\n       </defs>\n       <use xlink:href=\"#DejaVuSans-52\"/>\n       <use x=\"63.623047\" xlink:href=\"#DejaVuSans-48\"/>\n      </g>\n     </g>\n    </g>\n    <g id=\"xtick_4\">\n     <g id=\"line2d_4\">\n      <g>\n       <use style=\"stroke:#000000;stroke-width:0.8;\" x=\"226.605992\" xlink:href=\"#m8af652327f\" y=\"224.64\"/>\n      </g>\n     </g>\n     <g id=\"text_4\">\n      <!-- 60 -->\n      <g transform=\"translate(220.243492 239.238437)scale(0.1 -0.1)\">\n       <defs>\n        <path d=\"M 33.015625 40.375 \nQ 26.375 40.375 22.484375 35.828125 \nQ 18.609375 31.296875 18.609375 23.390625 \nQ 18.609375 15.53125 22.484375 10.953125 \nQ 26.375 6.390625 33.015625 6.390625 \nQ 39.65625 6.390625 43.53125 10.953125 \nQ 47.40625 15.53125 47.40625 23.390625 \nQ 47.40625 31.296875 43.53125 35.828125 \nQ 39.65625 40.375 33.015625 40.375 \nz\nM 52.59375 71.296875 \nL 52.59375 62.3125 \nQ 48.875 64.0625 45.09375 64.984375 \nQ 41.3125 65.921875 37.59375 65.921875 \nQ 27.828125 65.921875 22.671875 59.328125 \nQ 17.53125 52.734375 16.796875 39.40625 \nQ 19.671875 43.65625 24.015625 45.921875 \nQ 28.375 48.1875 33.59375 48.1875 \nQ 44.578125 48.1875 50.953125 41.515625 \nQ 57.328125 34.859375 57.328125 23.390625 \nQ 57.328125 12.15625 50.6875 5.359375 \nQ 44.046875 -1.421875 33.015625 -1.421875 \nQ 20.359375 -1.421875 13.671875 8.265625 \nQ 6.984375 17.96875 6.984375 36.375 \nQ 6.984375 53.65625 15.1875 63.9375 \nQ 23.390625 74.21875 37.203125 74.21875 \nQ 40.921875 74.21875 44.703125 73.484375 \nQ 48.484375 72.75 52.59375 71.296875 \nz\n\" id=\"DejaVuSans-54\"/>\n       </defs>\n       <use xlink:href=\"#DejaVuSans-54\"/>\n       <use x=\"63.623047\" xlink:href=\"#DejaVuSans-48\"/>\n      </g>\n     </g>\n    </g>\n    <g id=\"xtick_5\">\n     <g id=\"line2d_5\">\n      <g>\n       <use style=\"stroke:#000000;stroke-width:0.8;\" x=\"288.093595\" xlink:href=\"#m8af652327f\" y=\"224.64\"/>\n      </g>\n     </g>\n     <g id=\"text_5\">\n      <!-- 80 -->\n      <g transform=\"translate(281.731095 239.238437)scale(0.1 -0.1)\">\n       <defs>\n        <path d=\"M 31.78125 34.625 \nQ 24.75 34.625 20.71875 30.859375 \nQ 16.703125 27.09375 16.703125 20.515625 \nQ 16.703125 13.921875 20.71875 10.15625 \nQ 24.75 6.390625 31.78125 6.390625 \nQ 38.8125 6.390625 42.859375 10.171875 \nQ 46.921875 13.96875 46.921875 20.515625 \nQ 46.921875 27.09375 42.890625 30.859375 \nQ 38.875 34.625 31.78125 34.625 \nz\nM 21.921875 38.8125 \nQ 15.578125 40.375 12.03125 44.71875 \nQ 8.5 49.078125 8.5 55.328125 \nQ 8.5 64.0625 14.71875 69.140625 \nQ 20.953125 74.21875 31.78125 74.21875 \nQ 42.671875 74.21875 48.875 69.140625 \nQ 55.078125 64.0625 55.078125 55.328125 \nQ 55.078125 49.078125 51.53125 44.71875 \nQ 48 40.375 41.703125 38.8125 \nQ 48.828125 37.15625 52.796875 32.3125 \nQ 56.78125 27.484375 56.78125 20.515625 \nQ 56.78125 9.90625 50.3125 4.234375 \nQ 43.84375 -1.421875 31.78125 -1.421875 \nQ 19.734375 -1.421875 13.25 4.234375 \nQ 6.78125 9.90625 6.78125 20.515625 \nQ 6.78125 27.484375 10.78125 32.3125 \nQ 14.796875 37.15625 21.921875 38.8125 \nz\nM 18.3125 54.390625 \nQ 18.3125 48.734375 21.84375 45.5625 \nQ 25.390625 42.390625 31.78125 42.390625 \nQ 38.140625 42.390625 41.71875 45.5625 \nQ 45.3125 48.734375 45.3125 54.390625 \nQ 45.3125 60.0625 41.71875 63.234375 \nQ 38.140625 66.40625 31.78125 66.40625 \nQ 25.390625 66.40625 21.84375 63.234375 \nQ 18.3125 60.0625 18.3125 54.390625 \nz\n\" id=\"DejaVuSans-56\"/>\n       </defs>\n       <use xlink:href=\"#DejaVuSans-56\"/>\n       <use x=\"63.623047\" xlink:href=\"#DejaVuSans-48\"/>\n      </g>\n     </g>\n    </g>\n    <g id=\"xtick_6\">\n     <g id=\"line2d_6\">\n      <g>\n       <use style=\"stroke:#000000;stroke-width:0.8;\" x=\"349.581198\" xlink:href=\"#m8af652327f\" y=\"224.64\"/>\n      </g>\n     </g>\n     <g id=\"text_6\">\n      <!-- 100 -->\n      <g transform=\"translate(340.037448 239.238437)scale(0.1 -0.1)\">\n       <defs>\n        <path d=\"M 12.40625 8.296875 \nL 28.515625 8.296875 \nL 28.515625 63.921875 \nL 10.984375 60.40625 \nL 10.984375 69.390625 \nL 28.421875 72.90625 \nL 38.28125 72.90625 \nL 38.28125 8.296875 \nL 54.390625 8.296875 \nL 54.390625 0 \nL 12.40625 0 \nz\n\" id=\"DejaVuSans-49\"/>\n       </defs>\n       <use xlink:href=\"#DejaVuSans-49\"/>\n       <use x=\"63.623047\" xlink:href=\"#DejaVuSans-48\"/>\n       <use x=\"127.246094\" xlink:href=\"#DejaVuSans-48\"/>\n      </g>\n     </g>\n    </g>\n   </g>\n   <g id=\"matplotlib.axis_2\">\n    <g id=\"ytick_1\">\n     <g id=\"line2d_7\">\n      <defs>\n       <path d=\"M 0 0 \nL -3.5 0 \n\" id=\"m31193fa82f\" style=\"stroke:#000000;stroke-width:0.8;\"/>\n      </defs>\n      <g>\n       <use style=\"stroke:#000000;stroke-width:0.8;\" x=\"26.925\" xlink:href=\"#m31193fa82f\" y=\"224.205859\"/>\n      </g>\n     </g>\n     <g id=\"text_7\">\n      <!-- 5 -->\n      <g transform=\"translate(13.5625 228.005078)scale(0.1 -0.1)\">\n       <defs>\n        <path d=\"M 10.796875 72.90625 \nL 49.515625 72.90625 \nL 49.515625 64.59375 \nL 19.828125 64.59375 \nL 19.828125 46.734375 \nQ 21.96875 47.46875 24.109375 47.828125 \nQ 26.265625 48.1875 28.421875 48.1875 \nQ 40.625 48.1875 47.75 41.5 \nQ 54.890625 34.8125 54.890625 23.390625 \nQ 54.890625 11.625 47.5625 5.09375 \nQ 40.234375 -1.421875 26.90625 -1.421875 \nQ 22.3125 -1.421875 17.546875 -0.640625 \nQ 12.796875 0.140625 7.71875 1.703125 \nL 7.71875 11.625 \nQ 12.109375 9.234375 16.796875 8.0625 \nQ 21.484375 6.890625 26.703125 6.890625 \nQ 35.15625 6.890625 40.078125 11.328125 \nQ 45.015625 15.765625 45.015625 23.390625 \nQ 45.015625 31 40.078125 35.4375 \nQ 35.15625 39.890625 26.703125 39.890625 \nQ 22.75 39.890625 18.8125 39.015625 \nQ 14.890625 38.140625 10.796875 36.28125 \nz\n\" id=\"DejaVuSans-53\"/>\n       </defs>\n       <use xlink:href=\"#DejaVuSans-53\"/>\n      </g>\n     </g>\n    </g>\n    <g id=\"ytick_2\">\n     <g id=\"line2d_8\">\n      <g>\n       <use style=\"stroke:#000000;stroke-width:0.8;\" x=\"26.925\" xlink:href=\"#m31193fa82f\" y=\"195.438049\"/>\n      </g>\n     </g>\n     <g id=\"text_8\">\n      <!-- 10 -->\n      <g transform=\"translate(7.2 199.237267)scale(0.1 -0.1)\">\n       <use xlink:href=\"#DejaVuSans-49\"/>\n       <use x=\"63.623047\" xlink:href=\"#DejaVuSans-48\"/>\n      </g>\n     </g>\n    </g>\n    <g id=\"ytick_3\">\n     <g id=\"line2d_9\">\n      <g>\n       <use style=\"stroke:#000000;stroke-width:0.8;\" x=\"26.925\" xlink:href=\"#m31193fa82f\" y=\"166.670238\"/>\n      </g>\n     </g>\n     <g id=\"text_9\">\n      <!-- 15 -->\n      <g transform=\"translate(7.2 170.469457)scale(0.1 -0.1)\">\n       <use xlink:href=\"#DejaVuSans-49\"/>\n       <use x=\"63.623047\" xlink:href=\"#DejaVuSans-53\"/>\n      </g>\n     </g>\n    </g>\n    <g id=\"ytick_4\">\n     <g id=\"line2d_10\">\n      <g>\n       <use style=\"stroke:#000000;stroke-width:0.8;\" x=\"26.925\" xlink:href=\"#m31193fa82f\" y=\"137.902427\"/>\n      </g>\n     </g>\n     <g id=\"text_10\">\n      <!-- 20 -->\n      <g transform=\"translate(7.2 141.701646)scale(0.1 -0.1)\">\n       <use xlink:href=\"#DejaVuSans-50\"/>\n       <use x=\"63.623047\" xlink:href=\"#DejaVuSans-48\"/>\n      </g>\n     </g>\n    </g>\n    <g id=\"ytick_5\">\n     <g id=\"line2d_11\">\n      <g>\n       <use style=\"stroke:#000000;stroke-width:0.8;\" x=\"26.925\" xlink:href=\"#m31193fa82f\" y=\"109.134617\"/>\n      </g>\n     </g>\n     <g id=\"text_11\">\n      <!-- 25 -->\n      <g transform=\"translate(7.2 112.933835)scale(0.1 -0.1)\">\n       <use xlink:href=\"#DejaVuSans-50\"/>\n       <use x=\"63.623047\" xlink:href=\"#DejaVuSans-53\"/>\n      </g>\n     </g>\n    </g>\n    <g id=\"ytick_6\">\n     <g id=\"line2d_12\">\n      <g>\n       <use style=\"stroke:#000000;stroke-width:0.8;\" x=\"26.925\" xlink:href=\"#m31193fa82f\" y=\"80.366806\"/>\n      </g>\n     </g>\n     <g id=\"text_12\">\n      <!-- 30 -->\n      <g transform=\"translate(7.2 84.166025)scale(0.1 -0.1)\">\n       <defs>\n        <path d=\"M 40.578125 39.3125 \nQ 47.65625 37.796875 51.625 33 \nQ 55.609375 28.21875 55.609375 21.1875 \nQ 55.609375 10.40625 48.1875 4.484375 \nQ 40.765625 -1.421875 27.09375 -1.421875 \nQ 22.515625 -1.421875 17.65625 -0.515625 \nQ 12.796875 0.390625 7.625 2.203125 \nL 7.625 11.71875 \nQ 11.71875 9.328125 16.59375 8.109375 \nQ 21.484375 6.890625 26.8125 6.890625 \nQ 36.078125 6.890625 40.9375 10.546875 \nQ 45.796875 14.203125 45.796875 21.1875 \nQ 45.796875 27.640625 41.28125 31.265625 \nQ 36.765625 34.90625 28.71875 34.90625 \nL 20.21875 34.90625 \nL 20.21875 43.015625 \nL 29.109375 43.015625 \nQ 36.375 43.015625 40.234375 45.921875 \nQ 44.09375 48.828125 44.09375 54.296875 \nQ 44.09375 59.90625 40.109375 62.90625 \nQ 36.140625 65.921875 28.71875 65.921875 \nQ 24.65625 65.921875 20.015625 65.03125 \nQ 15.375 64.15625 9.8125 62.3125 \nL 9.8125 71.09375 \nQ 15.4375 72.65625 20.34375 73.4375 \nQ 25.25 74.21875 29.59375 74.21875 \nQ 40.828125 74.21875 47.359375 69.109375 \nQ 53.90625 64.015625 53.90625 55.328125 \nQ 53.90625 49.265625 50.4375 45.09375 \nQ 46.96875 40.921875 40.578125 39.3125 \nz\n\" id=\"DejaVuSans-51\"/>\n       </defs>\n       <use xlink:href=\"#DejaVuSans-51\"/>\n       <use x=\"63.623047\" xlink:href=\"#DejaVuSans-48\"/>\n      </g>\n     </g>\n    </g>\n    <g id=\"ytick_7\">\n     <g id=\"line2d_13\">\n      <g>\n       <use style=\"stroke:#000000;stroke-width:0.8;\" x=\"26.925\" xlink:href=\"#m31193fa82f\" y=\"51.598995\"/>\n      </g>\n     </g>\n     <g id=\"text_13\">\n      <!-- 35 -->\n      <g transform=\"translate(7.2 55.398214)scale(0.1 -0.1)\">\n       <use xlink:href=\"#DejaVuSans-51\"/>\n       <use x=\"63.623047\" xlink:href=\"#DejaVuSans-53\"/>\n      </g>\n     </g>\n    </g>\n    <g id=\"ytick_8\">\n     <g id=\"line2d_14\">\n      <g>\n       <use style=\"stroke:#000000;stroke-width:0.8;\" x=\"26.925\" xlink:href=\"#m31193fa82f\" y=\"22.831185\"/>\n      </g>\n     </g>\n     <g id=\"text_14\">\n      <!-- 40 -->\n      <g transform=\"translate(7.2 26.630403)scale(0.1 -0.1)\">\n       <use xlink:href=\"#DejaVuSans-52\"/>\n       <use x=\"63.623047\" xlink:href=\"#DejaVuSans-48\"/>\n      </g>\n     </g>\n    </g>\n   </g>\n   <g id=\"line2d_15\">\n    <path clip-path=\"url(#p6d54aadabb)\" d=\"M 42.143182 17.083636 \nL 45.217562 41.808915 \nL 48.291942 88.490137 \nL 51.366322 145.319578 \nL 54.440702 170.318604 \nL 57.515083 172.118946 \nL 60.589463 173.038687 \nL 63.663843 173.821894 \nL 66.738223 174.815325 \nL 69.812603 175.608491 \nL 72.886983 176.493877 \nL 75.961364 177.507451 \nL 79.035744 177.906204 \nL 82.110124 178.872694 \nL 85.184504 179.857083 \nL 88.258884 180.524612 \nL 91.333264 181.085551 \nL 94.407645 181.879595 \nL 97.482025 182.668124 \nL 100.556405 182.832131 \nL 103.630785 183.421119 \nL 106.705165 183.720157 \nL 109.779545 184.385996 \nL 112.853926 185.086914 \nL 115.928306 185.179557 \nL 119.002686 185.596714 \nL 122.077066 185.600769 \nL 125.151446 186.056301 \nL 128.225826 186.421359 \nL 131.300207 186.961199 \nL 134.374587 186.611275 \nL 137.448967 186.895218 \nL 140.523347 187.172324 \nL 143.597727 187.350762 \nL 146.672107 187.449748 \nL 149.746488 187.671144 \nL 152.820868 187.91243 \nL 155.895248 188.227171 \nL 158.969628 188.492963 \nL 162.044008 188.496793 \nL 165.118388 188.716394 \nL 168.192769 188.698545 \nL 171.267149 189.001215 \nL 174.341529 188.820823 \nL 177.415909 189.147993 \nL 180.490289 189.346766 \nL 183.564669 189.602604 \nL 186.63905 189.677101 \nL 189.71343 189.904176 \nL 192.78781 190.380505 \nL 195.86219 189.950755 \nL 198.93657 190.192437 \nL 202.01095 190.81832 \nL 205.085331 191.061971 \nL 208.159711 190.724557 \nL 211.234091 191.080726 \nL 214.308471 191.028566 \nL 217.382851 191.160189 \nL 220.457231 191.143903 \nL 223.531612 191.463418 \nL 226.605992 191.578761 \nL 229.680372 191.513564 \nL 232.754752 191.974759 \nL 235.829132 192.220452 \nL 238.903512 192.375877 \nL 241.977893 192.585427 \nL 245.052273 192.637043 \nL 248.126653 192.454814 \nL 251.201033 192.825846 \nL 254.275413 192.936339 \nL 257.349793 192.680835 \nL 260.424174 193.275234 \nL 263.498554 193.54677 \nL 266.572934 193.0884 \nL 269.647314 193.684511 \nL 272.721694 193.778849 \nL 275.796074 194.105821 \nL 278.870455 194.031455 \nL 281.944835 193.915849 \nL 285.019215 194.5505 \nL 288.093595 194.468629 \nL 291.167975 194.819288 \nL 294.242355 194.7627 \nL 297.316736 194.601486 \nL 300.391116 195.121381 \nL 303.465496 195.114506 \nL 306.539876 195.463108 \nL 309.614256 195.527866 \nL 312.688636 195.695977 \nL 315.763017 195.86247 \nL 318.837397 195.765377 \nL 321.911777 196.063997 \nL 324.986157 196.523859 \nL 328.060537 196.220701 \nL 331.134917 196.889921 \nL 334.209298 196.9005 \nL 337.283678 196.757804 \nL 340.358058 197.173545 \nL 343.432438 197.109885 \nL 346.506818 197.032693 \n\" style=\"fill:none;stroke:#1f77b4;stroke-linecap:square;stroke-width:1.5;\"/>\n   </g>\n   <g id=\"line2d_16\">\n    <path clip-path=\"url(#p6d54aadabb)\" d=\"M 42.143182 80.682749 \nL 45.217562 114.329139 \nL 48.291942 164.184671 \nL 51.366322 197.496978 \nL 54.440702 187.241296 \nL 57.515083 187.051642 \nL 60.589463 194.647879 \nL 63.663843 196.654626 \nL 66.738223 194.704422 \nL 69.812603 196.968698 \nL 72.886983 195.398805 \nL 75.961364 197.391062 \nL 79.035744 197.559771 \nL 82.110124 198.878528 \nL 85.184504 202.356166 \nL 88.258884 204.419479 \nL 91.333264 202.01754 \nL 94.407645 202.891826 \nL 97.482025 204.560863 \nL 100.556405 207.263969 \nL 103.630785 207.047155 \nL 106.705165 205.575913 \nL 109.779545 207.175375 \nL 112.853926 208.21194 \nL 115.928306 209.578892 \nL 119.002686 210.316434 \nL 122.077066 210.824137 \nL 125.151446 209.412564 \nL 128.225826 207.896365 \nL 131.300207 212.966002 \nL 134.374587 211.968382 \nL 137.448967 212.983462 \nL 140.523347 211.247551 \nL 143.597727 212.72927 \nL 146.672107 211.83116 \nL 149.746488 213.380297 \nL 152.820868 213.492883 \nL 155.895248 213.435302 \nL 158.969628 210.534867 \nL 162.044008 213.963113 \nL 165.118388 212.231978 \nL 168.192769 214.342966 \nL 171.267149 214.022759 \nL 174.341529 212.100383 \nL 177.415909 214.194207 \nL 180.490289 214.478967 \nL 183.564669 212.248538 \nL 186.63905 213.187475 \nL 189.71343 212.402002 \nL 192.78781 214.334543 \nL 195.86219 214.563352 \nL 198.93657 214.288592 \nL 202.01095 213.018807 \nL 205.085331 214.015105 \nL 208.159711 212.838514 \nL 211.234091 214.315561 \nL 214.308471 212.220009 \nL 217.382851 214.382031 \nL 220.457231 213.453878 \nL 223.531612 214.371205 \nL 226.605992 214.249206 \nL 229.680372 213.973494 \nL 232.754752 214.756364 \nL 235.829132 214.436448 \nL 238.903512 213.861499 \nL 241.977893 214.298565 \nL 245.052273 214.737115 \nL 248.126653 214.658799 \nL 251.201033 214.73692 \nL 254.275413 213.501618 \nL 257.349793 214.63563 \nL 260.424174 214.306853 \nL 263.498554 213.757711 \nL 266.572934 214.537102 \nL 269.647314 214.605342 \nL 272.721694 214.630996 \nL 275.796074 214.47413 \nL 278.870455 214.559292 \nL 281.944835 214.476731 \nL 285.019215 214.20049 \nL 288.093595 214.208712 \nL 291.167975 214.315712 \nL 294.242355 214.125441 \nL 297.316736 214.30845 \nL 300.391116 213.926152 \nL 303.465496 214.432426 \nL 306.539876 214.175661 \nL 309.614256 214.086088 \nL 312.688636 214.189699 \nL 315.763017 213.746776 \nL 318.837397 214.3184 \nL 321.911777 213.740389 \nL 324.986157 214.12971 \nL 328.060537 213.909543 \nL 331.134917 213.170712 \nL 334.209298 214.487406 \nL 337.283678 214.513519 \nL 340.358058 214.507549 \nL 343.432438 214.31279 \nL 346.506818 213.24941 \n\" style=\"fill:none;stroke:#ff7f0e;stroke-linecap:square;stroke-width:1.5;\"/>\n   </g>\n   <g id=\"patch_3\">\n    <path d=\"M 26.925 224.64 \nL 26.925 7.2 \n\" style=\"fill:none;stroke:#000000;stroke-linecap:square;stroke-linejoin:miter;stroke-width:0.8;\"/>\n   </g>\n   <g id=\"patch_4\">\n    <path d=\"M 361.725 224.64 \nL 361.725 7.2 \n\" style=\"fill:none;stroke:#000000;stroke-linecap:square;stroke-linejoin:miter;stroke-width:0.8;\"/>\n   </g>\n   <g id=\"patch_5\">\n    <path d=\"M 26.925 224.64 \nL 361.725 224.64 \n\" style=\"fill:none;stroke:#000000;stroke-linecap:square;stroke-linejoin:miter;stroke-width:0.8;\"/>\n   </g>\n   <g id=\"patch_6\">\n    <path d=\"M 26.925 7.2 \nL 361.725 7.2 \n\" style=\"fill:none;stroke:#000000;stroke-linecap:square;stroke-linejoin:miter;stroke-width:0.8;\"/>\n   </g>\n  </g>\n </g>\n <defs>\n  <clipPath id=\"p6d54aadabb\">\n   <rect height=\"217.44\" width=\"334.8\" x=\"26.925\" y=\"7.2\"/>\n  </clipPath>\n </defs>\n</svg>\n",
      "image/png": "[encoded data removed]"
     },
     "metadata": {
      "needs_background": "light"
     }
    }
   ],
   "source": [
    "import matplotlib.pyplot as plt\n",
    "\n",
    "plt.plot(range(100), history.history[\"mae\"])\n",
    "plt.plot(range(100), history.history[\"val_mae\"])\n",
    "plt.show()"
   ]
  },
  {
   "cell_type": "code",
   "execution_count": 96,
   "metadata": {},
   "outputs": [
    {
     "output_type": "stream",
     "name": "stdout",
     "text": [
      "10/10 [==============================] - 0s 2ms/step - loss: 250.9956 - mae: 13.6909\n",
      "[250.99562072753906, 13.690910339355469]\n"
     ]
    }
   ],
   "source": [
    "prediction = model.evaluate(x_test, y_test)\n",
    "print(prediction)"
   ]
  },
  {
   "cell_type": "code",
   "execution_count": 97,
   "metadata": {},
   "outputs": [
    {
     "output_type": "execute_result",
     "data": {
      "text/plain": [
       "array([[5.136503]], dtype=float32)"
      ]
     },
     "metadata": {},
     "execution_count": 97
    }
   ],
   "source": [
    "model.predict([[ 0.19933844, -0.85647184, -0.8467326 ,  1.003676  , -1.0386382 ,\n",
    "        0.0139037 ,  0.54155266, -0.27959728]])"
   ]
  },
  {
   "cell_type": "code",
   "execution_count": null,
   "metadata": {},
   "outputs": [],
   "source": []
  }
 ],
 "metadata": {
  "kernelspec": {
   "display_name": "Python 3",
   "language": "python",
   "name": "python3"
  },
  "language_info": {
   "codemirror_mode": {
    "name": "ipython",
    "version": 3
   },
   "file_extension": ".py",
   "mimetype": "text/x-python",
   "name": "python",
   "nbconvert_exporter": "python",
   "pygments_lexer": "ipython3",
   "version": "3.9.2-final"
  }
 },
 "nbformat": 4,
 "nbformat_minor": 2
}